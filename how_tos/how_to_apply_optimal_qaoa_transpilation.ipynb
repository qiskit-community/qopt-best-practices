{
 "cells": [
  {
   "cell_type": "markdown",
   "id": "4180dc8d-4246-428f-8713-3dd167298105",
   "metadata": {},
   "source": [
    "# How to apply optimal QAOA transpilation with a StagedPassManager\n",
    "\n",
    "This tutorial shows how applying domain-specific transpilation strategies allows to reduce circuit depth and 2-qubit gate count on qaoa circuits.\n",
    "\n",
    "References:\n",
    "\n",
    "[1] Sack, S. H., & Egger, D. J. (2023). Large-scale quantum approximate optimization on non-planar graphs with machine learning noise mitigation. arXiv preprint arXiv:2307.14427.\n",
    "\n",
    "[2] Weidenfeller, J., Valor, L. C., Gacon, J., Tornow, C., Bello, L., Woerner, S., & Egger, D. J. (2022). Scaling of the quantum approximate optimization algorithm on superconducting qubit based hardware. Quantum, 6, 870. "
   ]
  },
  {
   "cell_type": "markdown",
   "id": "411c300c-cdf7-4a6b-a632-a87f565c7cfa",
   "metadata": {},
   "source": [
    "## Problem setting\n",
    "\n",
    "We'll start our workflow with a graph that represents a hypothetical max-cut problem, for example:"
   ]
  },
  {
   "cell_type": "code",
   "execution_count": 704,
   "id": "496a28e0-3cf0-415e-99a2-b8bcacd6b465",
   "metadata": {},
   "outputs": [],
   "source": [
    "from networkx import barabasi_albert_graph, draw\n",
    "graph = barabasi_albert_graph(n=5, m=3, seed=42)"
   ]
  },
  {
   "cell_type": "code",
   "execution_count": 705,
   "id": "ea843f2a-bbd8-47c7-8726-daeb6ba286ee",
   "metadata": {},
   "outputs": [
    {
     "data": {
      "image/png": "[encoded data removed]",
      "text/plain": [
       "<Figure size 640x480 with 1 Axes>"
      ]
     },
     "metadata": {},
     "output_type": "display_data"
    }
   ],
   "source": [
    "draw(graph, with_labels=True)"
   ]
  },
  {
   "cell_type": "markdown",
   "id": "81fdc4d5-ce46-4c52-b715-4d2304c66aea",
   "metadata": {},
   "source": [
    "The graph above corresponds to the following operator."
   ]
  },
  {
   "cell_type": "code",
   "execution_count": 706,
   "id": "bcfeff44-69af-46b3-9cfe-e803b72c4aa6",
   "metadata": {},
   "outputs": [
    {
     "name": "stdout",
     "output_type": "stream",
     "text": [
      "SparsePauliOp(['IIIZZ', 'IIZIZ', 'IZIIZ', 'ZIIIZ', 'ZIZII', 'ZZIII'],\n",
      "              coeffs=[1.+0.j, 1.+0.j, 1.+0.j, 1.+0.j, 1.+0.j, 1.+0.j])\n"
     ]
    }
   ],
   "source": [
    "from qopt_best_practices.utils import build_max_cut_paulis\n",
    "from qiskit.quantum_info import SparsePauliOp\n",
    "\n",
    "local_correlators = build_max_cut_paulis(graph)\n",
    "cost_operator = SparsePauliOp.from_list(local_correlators)\n",
    "print(cost_operator)"
   ]
  },
  {
   "cell_type": "code",
   "execution_count": 707,
   "id": "46861fcb-d6d5-422f-9667-79ffe5a9e4f1",
   "metadata": {},
   "outputs": [],
   "source": [
    "# import json\n",
    "\n",
    "# graph_file = \"data/graph_2layers_0seed.json\"\n",
    "# data = json.load(open(graph_file, \"r\"))\n",
    "\n",
    "# local_correlators = data[\"paulis\"]\n",
    "# print(local_correlators)\n",
    "# cost_operator = SparsePauliOp.from_list(local_correlators)"
   ]
  },
  {
   "cell_type": "markdown",
   "id": "691a8f40-0599-4a42-971a-620ecfdc8513",
   "metadata": {},
   "source": [
    "This operator maps to a 10 qubit QAOA circuit:"
   ]
  },
  {
   "cell_type": "code",
   "execution_count": 708,
   "id": "a25178ec-2acc-4a78-82b1-1c6c814367e4",
   "metadata": {},
   "outputs": [
    {
     "name": "stdout",
     "output_type": "stream",
     "text": [
      "5\n"
     ]
    }
   ],
   "source": [
    "num_qubits = cost_operator.num_qubits\n",
    "print(num_qubits)"
   ]
  },
  {
   "cell_type": "markdown",
   "id": "53296327-119a-4d25-b20f-a730ee2fc835",
   "metadata": {},
   "source": [
    "And we'll fix the number of QAOA layers to 3 for both workflows:"
   ]
  },
  {
   "cell_type": "code",
   "execution_count": 709,
   "id": "c1221740-b896-4b41-b190-bcc84f9a3d5d",
   "metadata": {},
   "outputs": [],
   "source": [
    "qaoa_layers = 1"
   ]
  },
  {
   "cell_type": "markdown",
   "id": "d7e5b59a-ee23-43bd-8f9b-91b0d36c1912",
   "metadata": {},
   "source": [
    "We can design a fake backend with the same basis gates and connectivity as \"ibm_torino\" but smaller number of qubits that will allow us to perform a statevector simulation:"
   ]
  },
  {
   "cell_type": "code",
   "execution_count": 710,
   "id": "8725da4b-d390-49f8-ae46-cc9121de759b",
   "metadata": {},
   "outputs": [
    {
     "name": "stdout",
     "output_type": "stream",
     "text": [
      "19\n"
     ]
    }
   ],
   "source": [
    "from qiskit.providers.fake_provider import GenericBackendV2\n",
    "from qiskit.transpiler import CouplingMap\n",
    "\n",
    "cmap = CouplingMap.from_heavy_hex(distance=3)\n",
    "print(cmap.size())\n",
    "backend = GenericBackendV2(num_qubits = 5, basis_gates = [\"x\", \"sx\", \"cz\", \"id\", \"rz\"], seed=0)\n",
    "# backend = GenericBackendV2(num_qubits = cmap.size(), coupling_map = cmap, basis_gates = [\"x\", \"sx\", \"cz\", \"id\", \"rz\"], seed=0)"
   ]
  },
  {
   "cell_type": "markdown",
   "id": "8bda2dc8-0bdc-4a21-bfbf-5b024de43d3b",
   "metadata": {},
   "source": [
    "Now, let's look at a naive workflow using exclusively transpilation defaults:"
   ]
  },
  {
   "cell_type": "markdown",
   "id": "6f0d8ab1-6487-4372-9f5d-3e24b0cdcc00",
   "metadata": {},
   "source": [
    "## Naive QAOA Workflow"
   ]
  },
  {
   "cell_type": "markdown",
   "id": "1aede409-0d95-437d-846b-50ed514556b2",
   "metadata": {},
   "source": [
    "Build QAOA circuit/ansatz:"
   ]
  },
  {
   "cell_type": "code",
   "execution_count": 711,
   "id": "c250c4f0-03b1-4a32-ba15-c138298fd5e7",
   "metadata": {},
   "outputs": [],
   "source": [
    "from qiskit import QuantumCircuit\n",
    "from qiskit.circuit.library import qaoa_ansatz\n",
    "from qiskit.circuit import ParameterVector\n",
    "\n",
    "# Use off-the-shelf qiskit qaoa_ansatz\n",
    "qaoa_circuit = qaoa_ansatz(cost_operator, reps = qaoa_layers)\n",
    "# qaoa_circuit.measure_all()"
   ]
  },
  {
   "cell_type": "markdown",
   "id": "c66cd678-4866-472b-b69b-2a37efcaef3f",
   "metadata": {},
   "source": [
    "Let's inspect the default pass manager for optimization level 3:"
   ]
  },
  {
   "cell_type": "code",
   "execution_count": 712,
   "id": "0cf53148-be8d-40ed-9720-3477e4765692",
   "metadata": {},
   "outputs": [],
   "source": [
    "from qiskit.transpiler.preset_passmanagers import generate_preset_pass_manager\n",
    "\n",
    "naive_pm = generate_preset_pass_manager(backend=backend, optimization_level=3)"
   ]
  },
  {
   "cell_type": "markdown",
   "id": "2a233c0f-578c-4f19-a2e1-4ab6587d96f1",
   "metadata": {},
   "source": [
    "The pass contains the following stages:"
   ]
  },
  {
   "cell_type": "code",
   "execution_count": 713,
   "id": "ccf561ba-3294-45d8-9f06-b803b685f7f7",
   "metadata": {},
   "outputs": [
    {
     "name": "stdout",
     "output_type": "stream",
     "text": [
      "('pre_init', 'init', 'post_init', 'pre_layout', 'layout', 'post_layout', 'pre_routing', 'routing', 'post_routing', 'pre_translation', 'translation', 'post_translation', 'pre_optimization', 'optimization', 'post_optimization', 'pre_scheduling', 'scheduling', 'post_scheduling')\n"
     ]
    }
   ],
   "source": [
    "print(naive_pm.expanded_stages)"
   ]
  },
  {
   "cell_type": "code",
   "execution_count": 714,
   "id": "6b4aa438-ac74-4df7-a7a9-9693912437ff",
   "metadata": {},
   "outputs": [],
   "source": [
    "# naive_pm.draw()"
   ]
  },
  {
   "cell_type": "markdown",
   "id": "dfd3a1f9-45fe-406e-a05e-892be59b9174",
   "metadata": {},
   "source": [
    "And the following passes per stage:"
   ]
  },
  {
   "cell_type": "code",
   "execution_count": 715,
   "id": "89402faa-c8ba-4bb7-a22f-76885de97a36",
   "metadata": {},
   "outputs": [
    {
     "name": "stdout",
     "output_type": "stream",
     "text": [
      "init\n",
      "[<qiskit.transpiler.passes.synthesis.unitary_synthesis.UnitarySynthesis object at 0x374eda8d0>]\n",
      "[<qiskit.transpiler.passes.synthesis.high_level_synthesis.HighLevelSynthesis object at 0x374eb3ad0>]\n",
      "[<qiskit.transpiler.passes.basis.basis_translator.BasisTranslator object at 0x374eb0a10>]\n",
      "[<qiskit.transpiler.passes.optimization.elide_permutations.ElidePermutations object at 0x374ed01d0>]\n",
      "[<qiskit.transpiler.passes.optimization.remove_diagonal_gates_before_measure.RemoveDiagonalGatesBeforeMeasure object at 0x374c8bb90>, <qiskit.transpiler.passes.optimization.remove_identity_equiv.RemoveIdentityEquivalent object at 0x374ed1310>, <qiskit.transpiler.passes.optimization.inverse_cancellation.InverseCancellation object at 0x374ed1750>, <qiskit.transpiler.passes.optimization.contract_idle_wires_in_control_flow.ContractIdleWiresInControlFlow object at 0x374ed0990>]\n",
      "[<qiskit.transpiler.passes.optimization.commutative_cancellation.CommutativeCancellation object at 0x374ed0a90>]\n",
      "[<qiskit.transpiler.passes.optimization.consolidate_blocks.ConsolidateBlocks object at 0x374ed0510>]\n",
      "[<qiskit.transpiler.passes.optimization.split_2q_unitaries.Split2QUnitaries object at 0x3746f9090>]\n",
      "----\n",
      "layout\n",
      "[<qiskit.transpiler.passes.layout.set_layout.SetLayout object at 0x374ed1190>]\n",
      "[<qiskit.passmanager.flow_controllers.ConditionalController object at 0x374ed3a90>]\n",
      "[<qiskit.passmanager.flow_controllers.ConditionalController object at 0x374ed0910>]\n",
      "[<qiskit.passmanager.flow_controllers.ConditionalController object at 0x374ec47d0>]\n",
      "----\n",
      "routing\n",
      "[<qiskit.transpiler.passes.utils.check_map.CheckMap object at 0x374ea69d0>]\n",
      "[<qiskit.passmanager.flow_controllers.ConditionalController object at 0x3745565d0>]\n",
      "[<qiskit.passmanager.flow_controllers.ConditionalController object at 0x374e6b190>]\n",
      "[<qiskit.passmanager.flow_controllers.ConditionalController object at 0x374beda50>]\n",
      "[<qiskit.transpiler.passes.utils.filter_op_nodes.FilterOpNodes object at 0x373470d50>]\n",
      "----\n",
      "translation\n",
      "[<qiskit.transpiler.passes.synthesis.unitary_synthesis.UnitarySynthesis object at 0x374ec6190>, <qiskit.transpiler.passes.synthesis.high_level_synthesis.HighLevelSynthesis object at 0x3720814d0>, <qiskit.transpiler.passes.basis.basis_translator.BasisTranslator object at 0x374ec6590>]\n",
      "----\n",
      "optimization\n",
      "[<qiskit.transpiler.passes.analysis.depth.Depth object at 0x374f4f150>, <qiskit.transpiler.passes.analysis.size.Size object at 0x374f4db50>, <qiskit.transpiler.passes.utils.minimum_point.MinimumPoint object at 0x374f4f390>]\n",
      "[<qiskit.passmanager.flow_controllers.DoWhileController object at 0x374f719d0>]\n",
      "[<qiskit.transpiler.passes.layout.vf2_post_layout.VF2PostLayout object at 0x374f76050>]\n",
      "[<qiskit.passmanager.flow_controllers.ConditionalController object at 0x374f741d0>]\n",
      "----\n",
      "scheduling\n",
      "[<qiskit.transpiler.passes.utils.contains_instruction.ContainsInstruction object at 0x374ed1b90>]\n",
      "[<qiskit.passmanager.flow_controllers.ConditionalController object at 0x374f4fd90>]\n"
     ]
    }
   ],
   "source": [
    "print(\"init\")\n",
    "for task in naive_pm.init._tasks:\n",
    "    print(task)\n",
    "\n",
    "print(\"----\")\n",
    "print(\"layout\")\n",
    "for task in naive_pm.layout._tasks:\n",
    "    print(task)\n",
    "\n",
    "print(\"----\")\n",
    "print(\"routing\")\n",
    "for task in naive_pm.routing._tasks:\n",
    "    print(task)\n",
    "\n",
    "print(\"----\")\n",
    "print(\"translation\")\n",
    "for task in naive_pm.translation._tasks:\n",
    "    print(task)\n",
    "\n",
    "print(\"----\")\n",
    "print(\"optimization\")\n",
    "for task in naive_pm.optimization._tasks:\n",
    "    print(task)\n",
    "\n",
    "print(\"----\")\n",
    "print(\"scheduling\")\n",
    "for task in naive_pm.scheduling._tasks:\n",
    "    print(task)"
   ]
  },
  {
   "cell_type": "markdown",
   "id": "617d3d32-f003-4e3c-9e7a-a090dc8986b5",
   "metadata": {},
   "source": [
    "Let's use it to transpile the circuit:"
   ]
  },
  {
   "cell_type": "code",
   "execution_count": 716,
   "id": "b41edd7e-105d-4e6d-b368-405bf9cec46f",
   "metadata": {},
   "outputs": [],
   "source": [
    "def callback_func(**kwargs):\n",
    "    pass_ = kwargs['pass_']\n",
    "    print(pass_)"
   ]
  },
  {
   "cell_type": "code",
   "execution_count": 717,
   "id": "a7433e92-4223-44a3-a2b5-f3d2354dec91",
   "metadata": {},
   "outputs": [],
   "source": [
    "import time\n",
    "from qiskit.transpiler.preset_passmanagers import generate_preset_pass_manager\n",
    "\n",
    "naive_pm = generate_preset_pass_manager(backend=backend, optimization_level=3)\n",
    "t0 = time.time()\n",
    "naively_transpiled_qaoa = naive_pm.run(qaoa_circuit)\n",
    "t1 = time.time()"
   ]
  },
  {
   "cell_type": "code",
   "execution_count": 718,
   "id": "7306e598-e635-40e0-a272-94ec64a54943",
   "metadata": {},
   "outputs": [
    {
     "name": "stdout",
     "output_type": "stream",
     "text": [
      "transpilation time: 0.0059049129486083984 (s)\n"
     ]
    }
   ],
   "source": [
    "print(f\"transpilation time: {t1 - t0} (s)\")"
   ]
  },
  {
   "cell_type": "code",
   "execution_count": 719,
   "id": "322f316b-1c90-4986-94f0-37c28a060141",
   "metadata": {},
   "outputs": [
    {
     "data": {
      "text/plain": [
       "OrderedDict([('rz', 34), ('sx', 23), ('cz', 12)])"
      ]
     },
     "execution_count": 719,
     "metadata": {},
     "output_type": "execute_result"
    }
   ],
   "source": [
    "naively_transpiled_qaoa.count_ops()"
   ]
  },
  {
   "cell_type": "code",
   "execution_count": 720,
   "id": "f4d94b72-e6f1-4487-8767-d4399f52345c",
   "metadata": {},
   "outputs": [
    {
     "data": {
      "text/plain": [
       "51"
      ]
     },
     "execution_count": 720,
     "metadata": {},
     "output_type": "execute_result"
    }
   ],
   "source": [
    "naively_transpiled_qaoa.depth()"
   ]
  },
  {
   "cell_type": "markdown",
   "id": "43595fa4-cf4c-4976-960a-9bc655013101",
   "metadata": {},
   "source": [
    "Let's look at a domain-specific transpialation workflow and see how the transpilation time, total number of 2q gates and circuit depth compares to the default pipeline."
   ]
  },
  {
   "cell_type": "markdown",
   "id": "c550a0cd-3a77-4c7b-9171-c3271f432c4e",
   "metadata": {},
   "source": [
    "## Optimal QAOA Transpilation Workflow\n",
    "\n",
    "The optimal QAOA workflow consists on the following steps:\n",
    "\n",
    "1. We start off by only building the cost layer of the QAOA ansatz (this is the one that contains 2q gates)\n",
    "2. We transpile the cost layer applying specific swap strategies as per [1,2]\n",
    "3. We then build the QAOA circuit by alternating layers of transpiled cost + mixer\n",
    "4. We translate the circuit to the hardware native gates and route it to the optimal qubit layout through backend evaluation as per [2]\n",
    "   \n",
    "**What's interesting about this workflow is that we can embed it fully in a custom staged pass manager.** For this, we will use our own **\"QAOAConstructionPass\"** for step 3 of the workflow, and use passes already available in Qiskit to perform steps 2 and 4. The custom **\"QAOAConstructionPass\"** is available in this best practices repository."
   ]
  },
  {
   "cell_type": "markdown",
   "id": "e52512b7-34ff-41c3-93aa-2c3853cc73a1",
   "metadata": {},
   "source": [
    "### 1. Build cost layer\n",
    "\n",
    "The construction of the cost layer relies on the `qaoa_ansatz` method from `qiskit.circuit.library`. However, to get only a cost layer without initial state or mixer we call the `get_cost_layer` method from `qopt_best_practices.transpilation.cost_layer` which takes care of removing the initial state and mixer. These will come back into play later."
   ]
  },
  {
   "cell_type": "code",
   "execution_count": 721,
   "id": "5ae7e019-3bb0-499b-9d5e-20049aa2cd8d",
   "metadata": {},
   "outputs": [],
   "source": [
    "from qopt_best_practices.transpilation.cost_layer import get_cost_layer"
   ]
  },
  {
   "cell_type": "code",
   "execution_count": 722,
   "id": "9bcb68da",
   "metadata": {},
   "outputs": [],
   "source": [
    "from __future__ import annotations\n",
    "from collections.abc import Sequence\n",
    "\n",
    "import typing\n",
    "import warnings\n",
    "import itertools\n",
    "import numpy as np\n",
    "\n",
    "from qiskit.circuit.library.pauli_evolution import PauliEvolutionGate\n",
    "from qiskit.circuit.parameter import Parameter\n",
    "from qiskit.circuit.parametervector import ParameterVector\n",
    "from qiskit.circuit import QuantumRegister\n",
    "from qiskit.circuit.quantumcircuit import QuantumCircuit\n",
    "from qiskit.quantum_info import Operator, Pauli, SparsePauliOp\n",
    "from qiskit.quantum_info.operators.base_operator import BaseOperator\n",
    "from qiskit.synthesis.evolution.product_formula import real_or_fail\n",
    "\n",
    "from qiskit._accelerate.circuit_library import pauli_evolution\n",
    "\n",
    "from qiskit.circuit.library.n_local import NLocal\n",
    "\n",
    "if typing.TYPE_CHECKING:\n",
    "    from qiskit.synthesis.evolution import EvolutionSynthesis\n",
    "    \n",
    "from qiskit.circuit import annotation, QuantumCircuit\n",
    "\n",
    "class CostLayerAnnotation(annotation.Annotation):\n",
    "    namespace = \"qaoa.cost_layer\"\n",
    "\n",
    "class MixerAnnotation(annotation.Annotation):\n",
    "    namespace = \"qaoa.mixer\"\n",
    "\n",
    "class InitStateAnnotation(annotation.Annotation):\n",
    "    namespace = \"qaoa.init_state\"\n",
    "\n",
    "# circ = QuantumCircuit(4)\n",
    "# circ.h(range(4))\n",
    "# with circ.box(annotations=(CostLayerAnnotation(),)):\n",
    "#     circ.rx(pi, 0)\n",
    "#     circ.cx(0, 3)\n",
    "# circ.measure_all()\n",
    "\n",
    "\n",
    "def annotated_evolved_operator_ansatz(\n",
    "    operators: BaseOperator | Sequence[BaseOperator],\n",
    "    reps: int = 1,\n",
    "    evolution: EvolutionSynthesis | None = None,\n",
    "    insert_barriers: bool = False,\n",
    "    name: str = \"EvolvedOps\",\n",
    "    parameter_prefix: str | Sequence[str] = \"t\",\n",
    "    remove_identities: bool = True,\n",
    "    flatten: bool | None = None,\n",
    "    annotations: Sequence[annotation.Annotation]=None,\n",
    ") -> QuantumCircuit:\n",
    "    r\"\"\"Construct an ansatz out of operator evolutions.\n",
    "\n",
    "    For a set of operators :math:`[O_1, ..., O_J]` and :math:`R` repetitions (``reps``), this circuit\n",
    "    is defined as\n",
    "\n",
    "    .. math::\n",
    "\n",
    "        \\prod_{r=1}^{R} \\left( \\prod_{j=J}^1 e^{-i\\theta_{j, r} O_j} \\right)\n",
    "\n",
    "    where the exponentials :math:`exp(-i\\theta O_j)` are expanded using the product formula\n",
    "    specified by ``evolution``.\n",
    "\n",
    "    Examples:\n",
    "\n",
    "    .. plot::\n",
    "        :alt: Circuit diagram output by the previous code.\n",
    "        :include-source:\n",
    "\n",
    "        from qiskit.circuit.library import evolved_operator_ansatz\n",
    "        from qiskit.quantum_info import Pauli\n",
    "\n",
    "        ops = [Pauli(\"ZZI\"), Pauli(\"IZZ\"), Pauli(\"IXI\")]\n",
    "        ansatz = evolved_operator_ansatz(ops, reps=3, insert_barriers=True)\n",
    "        ansatz.draw(\"mpl\")\n",
    "\n",
    "    Args:\n",
    "        operators: The operators to evolve. Can be a single operator or a sequence thereof.\n",
    "        reps: The number of times to repeat the evolved operators.\n",
    "        evolution: A specification of which evolution synthesis to use for the\n",
    "            :class:`.PauliEvolutionGate`. Defaults to first order Trotterization. Note, that\n",
    "            operators of type :class:`.Operator` are evolved using the :class:`.HamiltonianGate`,\n",
    "            as there are no Hamiltonian terms to expand in Trotterization.\n",
    "        insert_barriers: Whether to insert barriers in between each evolution.\n",
    "        name: The name of the circuit.\n",
    "        parameter_prefix: Set the names of the circuit parameters. If a string, the same prefix\n",
    "            will be used for each parameters. Can also be a list to specify a prefix per\n",
    "            operator.\n",
    "        remove_identities: If ``True``, ignore identity operators (note that we do not check\n",
    "            :class:`.Operator` inputs). This will also remove parameters associated with identities.\n",
    "        flatten: If ``True``, a flat circuit is returned instead of nesting it inside multiple\n",
    "            layers of gate objects. Setting this to ``False`` is significantly less performant,\n",
    "            especially for parameter binding, but can be desirable for a cleaner visualization.\n",
    "    \"\"\"\n",
    "    if reps < 0:\n",
    "        raise ValueError(\"reps must be a non-negative integer.\")\n",
    "\n",
    "    if isinstance(operators, BaseOperator):\n",
    "        operators = [operators]\n",
    "    elif len(operators) == 0:\n",
    "        return QuantumCircuit()\n",
    "\n",
    "    num_operators = len(operators)\n",
    "    if not isinstance(parameter_prefix, str):\n",
    "        if num_operators != len(parameter_prefix):\n",
    "            raise ValueError(\n",
    "                f\"Mismatching number of operators ({len(operators)}) and parameter_prefix \"\n",
    "                f\"({len(parameter_prefix)}).\"\n",
    "            )\n",
    "\n",
    "    num_qubits = operators[0].num_qubits\n",
    "    if remove_identities:\n",
    "        operators, parameter_prefix = _remove_identities(operators, parameter_prefix)\n",
    "\n",
    "    if any(op.num_qubits != num_qubits for op in operators):\n",
    "        raise ValueError(\"Inconsistent numbers of qubits in the operators.\")\n",
    "\n",
    "    # get the total number of parameters\n",
    "    if isinstance(parameter_prefix, str):\n",
    "        parameters = ParameterVector(parameter_prefix, reps * num_operators)\n",
    "        param_iter = iter(parameters)\n",
    "    else:\n",
    "        # this creates the parameter vectors per operator, e.g.\n",
    "        #    [[a0, a1, a2, ...], [b0, b1, b2, ...], [c0, c1, c2, ...]]\n",
    "        # and turns them into an iterator\n",
    "        #    a0 -> b0 -> c0 -> a1 -> b1 -> c1 -> a2 -> ...\n",
    "        per_operator = [ParameterVector(prefix, reps).params for prefix in parameter_prefix]\n",
    "        param_iter = itertools.chain.from_iterable(zip(*per_operator))\n",
    "\n",
    "    # # fast, Rust-path\n",
    "    # if (\n",
    "    #     flatten is not False  # captures None and True\n",
    "    #     and evolution is None\n",
    "    #     and all(isinstance(op, SparsePauliOp) for op in operators)\n",
    "    # ):\n",
    "    #     sparse_labels = [op.to_sparse_list() for op in operators]\n",
    "    #     expanded_paulis = []\n",
    "    #     for _ in range(reps):\n",
    "    #         for term in sparse_labels:\n",
    "    #             param = next(param_iter)\n",
    "    #             expanded_paulis += [\n",
    "    #                 (pauli, indices, 2 * real_or_fail(coeff) * param)\n",
    "    #                 for pauli, indices, coeff in term\n",
    "    #             ]\n",
    "\n",
    "    #     data = pauli_evolution(num_qubits, expanded_paulis, insert_barriers, False)\n",
    "    #     circuit = QuantumCircuit._from_circuit_data(data, legacy_qubits=True)\n",
    "    #     circuit.name = name\n",
    "\n",
    "    #     return circuit\n",
    "\n",
    "    # slower, Python-path\n",
    "    if evolution is None:\n",
    "        from qiskit.synthesis.evolution import LieTrotter\n",
    "\n",
    "        evolution = LieTrotter(insert_barriers=insert_barriers)\n",
    "\n",
    "    circuit = QuantumCircuit(num_qubits, name=name)\n",
    "\n",
    "    # pylint: disable=cyclic-import\n",
    "    from qiskit.circuit.library.hamiltonian_gate import HamiltonianGate\n",
    "\n",
    "    for rep in range(reps):\n",
    "        for i, op in enumerate(operators):\n",
    "            if isinstance(op, Operator):\n",
    "                gate = HamiltonianGate(op, next(param_iter))\n",
    "                if flatten:\n",
    "                    warnings.warn(\n",
    "                        \"Cannot flatten the evolution of an Operator, flatten is set to \"\n",
    "                        \"False for this operator.\"\n",
    "                    )\n",
    "                flatten_operator = False\n",
    "\n",
    "            elif isinstance(op, BaseOperator):\n",
    "                gate = PauliEvolutionGate(op, next(param_iter), synthesis=evolution)\n",
    "                flatten_operator = flatten is True or flatten is None\n",
    "            else:\n",
    "                raise ValueError(f\"Unsupported operator type: {type(op)}\")\n",
    "\n",
    "            if flatten_operator:\n",
    "                if annotations:\n",
    "                    with circuit.box(annotations=(annotations[i],)):\n",
    "                        circuit.compose(gate.definition, inplace=True)\n",
    "                else:\n",
    "                    circuit.compose(gate.definition, inplace=True)\n",
    "\n",
    "            else:\n",
    "                if annotations:\n",
    "                    with circuit.box(annotations=(annotations[i],)):\n",
    "                        circuit.append(gate, circuit.qubits)\n",
    "                else:\n",
    "                    circuit.append(gate, circuit.qubits)\n",
    "\n",
    "            if insert_barriers and (rep < reps - 1 or i < num_operators - 1):\n",
    "                circuit.barrier()\n",
    "\n",
    "    return circuit\n",
    "\n",
    "\n",
    "def _is_pauli_identity(operator):\n",
    "    if isinstance(operator, SparsePauliOp):\n",
    "        if len(operator.paulis) == 1:\n",
    "            operator = operator.paulis[0]  # check if the single Pauli is identity below\n",
    "        else:\n",
    "            return False\n",
    "    if isinstance(operator, Pauli):\n",
    "        return not np.any(np.logical_or(operator.x, operator.z))\n",
    "    return False\n",
    "\n",
    "\n",
    "def _remove_identities(operators, prefixes):\n",
    "    identity_ops = {index for index, op in enumerate(operators) if _is_pauli_identity(op)}\n",
    "\n",
    "    if len(identity_ops) == 0:\n",
    "        return operators, prefixes\n",
    "\n",
    "    cleaned_ops = [op for i, op in enumerate(operators) if i not in identity_ops]\n",
    "    cleaned_prefix = [prefix for i, prefix in enumerate(prefixes) if i not in identity_ops]\n",
    "\n",
    "    return cleaned_ops, cleaned_prefix"
   ]
  },
  {
   "cell_type": "code",
   "execution_count": 723,
   "id": "d15f949f",
   "metadata": {},
   "outputs": [],
   "source": [
    "from qiskit.quantum_info.operators.base_operator import BaseOperator\n",
    "\n",
    "def annotated_qaoa_ansatz(\n",
    "    cost_operator: BaseOperator,\n",
    "    reps: int = 1,\n",
    "    initial_state: QuantumCircuit | None = None,\n",
    "    mixer_operator: BaseOperator | None = None,\n",
    "    insert_barriers: bool = False,\n",
    "    name: str = \"QAOA\",\n",
    "    flatten: bool = True,\n",
    ") -> QuantumCircuit:\n",
    "    r\"\"\"A generalized QAOA quantum circuit with a support of custom initial states and mixers.\n",
    "\n",
    "    Examples:\n",
    "\n",
    "        To define the QAOA ansatz we require a cost Hamiltonian, encoding the classical\n",
    "        optimization problem:\n",
    "\n",
    "        .. plot::\n",
    "            :alt: Circuit diagram output by the previous code.\n",
    "            :include-source:\n",
    "\n",
    "            from qiskit.quantum_info import SparsePauliOp\n",
    "            from qiskit.circuit.library import qaoa_ansatz\n",
    "\n",
    "            cost_operator = SparsePauliOp([\"ZZII\", \"IIZZ\", \"ZIIZ\"])\n",
    "            ansatz = qaoa_ansatz(cost_operator, reps=3, insert_barriers=True)\n",
    "            ansatz.draw(\"mpl\")\n",
    "\n",
    "    Args:\n",
    "        cost_operator: The operator representing the cost of the optimization problem, denoted as\n",
    "            :math:`U(C, \\gamma)` in [1].\n",
    "        reps: The integer determining the depth of the circuit, called :math:`p` in [1].\n",
    "        initial_state: An optional initial state to use, which defaults to a layer of\n",
    "            Hadamard gates preparing the :math:`|+\\rangle^{\\otimes n}` state.\n",
    "            If a custom mixer is chosen, this circuit should be set to prepare its ground state,\n",
    "            to appropriately fulfill the annealing conditions.\n",
    "        mixer_operator: An optional custom mixer, which defaults to global Pauli-:math:`X`\n",
    "            rotations. This is denoted as :math:`U(B, \\beta)` in [1]. If this is set,\n",
    "            the ``initial_state`` might also require modification.\n",
    "        insert_barriers: Whether to insert barriers in-between the cost and mixer operators.\n",
    "        name: The name of the circuit.\n",
    "        flatten: If ``True``, a flat circuit is returned instead of nesting it inside multiple\n",
    "            layers of gate objects. Setting this to ``False`` is significantly less performant,\n",
    "            especially for parameter binding, but can be desirable for a cleaner visualization.\n",
    "\n",
    "    References:\n",
    "\n",
    "        [1]: Farhi et al., A Quantum Approximate Optimization Algorithm.\n",
    "            `arXiv:1411.4028 <https://arxiv.org/pdf/1411.4028>`_\n",
    "    \"\"\"\n",
    "    num_qubits = cost_operator.num_qubits\n",
    "\n",
    "    if initial_state is None:\n",
    "        ansatz = QuantumCircuit(num_qubits)\n",
    "        with ansatz.box(annotations=(InitStateAnnotation(),)):\n",
    "            ansatz.h(range(num_qubits))\n",
    "    else:\n",
    "        ansatz = QuantumCircuit(num_qubits)\n",
    "        with ansatz.box(annotations=(InitStateAnnotation(),)):\n",
    "            ansatz.compose(initial_state, inplace=True)\n",
    "            # ansatz.append(initial_state, range(num_qubits))\n",
    "\n",
    "    if mixer_operator is None:\n",
    "        mixer_operator = SparsePauliOp.from_sparse_list(\n",
    "            [(\"X\", [i], 1) for i in range(num_qubits)], num_qubits\n",
    "        )\n",
    "\n",
    "    parameter_prefix = [\"γ\", \"β\"]\n",
    "\n",
    "    annotations = [CostLayerAnnotation(), MixerAnnotation()]\n",
    "    return ansatz.compose(\n",
    "        annotated_evolved_operator_ansatz(\n",
    "            [cost_operator, mixer_operator],\n",
    "            reps=reps,\n",
    "            insert_barriers=insert_barriers,\n",
    "            parameter_prefix=parameter_prefix,\n",
    "            name=name,\n",
    "            flatten=flatten,\n",
    "            annotations=annotations\n",
    "        ),\n",
    "        copy=False,\n",
    "    )\n"
   ]
  },
  {
   "cell_type": "code",
   "execution_count": 724,
   "id": "b3c6c1f8",
   "metadata": {},
   "outputs": [],
   "source": [
    "initial_state = QuantumCircuit(cost_operator.num_qubits)\n",
    "initial_state.x(range(cost_operator.num_qubits))\n",
    "initial_state.h(range(cost_operator.num_qubits))\n",
    "\n",
    "qaoa_circuit = annotated_qaoa_ansatz(cost_operator, reps = qaoa_layers, initial_state=initial_state)\n",
    "qaoa_circuit.measure_all()"
   ]
  },
  {
   "cell_type": "code",
   "execution_count": 725,
   "id": "661e1088",
   "metadata": {},
   "outputs": [
    {
     "data": {
      "image/png": "[encoded data removed]",
      "text/plain": [
       "<Figure size 1918.16x535.111 with 1 Axes>"
      ]
     },
     "execution_count": 725,
     "metadata": {},
     "output_type": "execute_result"
    }
   ],
   "source": [
    "qaoa_circuit.draw('mpl', fold=-1)"
   ]
  },
  {
   "cell_type": "code",
   "execution_count": 726,
   "id": "a6d73490-4189-48a6-b5a0-ff39b6e278b0",
   "metadata": {},
   "outputs": [
    {
     "name": "stdout",
     "output_type": "stream",
     "text": [
      "ParameterView([ParameterVectorElement(γ[0])])\n"
     ]
    }
   ],
   "source": [
    "cost_layer = get_cost_layer(cost_operator)\n",
    "\n",
    "# qaoa_ansatz will have a left-over beta parameter which we set to zero.\n",
    "print(cost_layer.parameters)"
   ]
  },
  {
   "cell_type": "markdown",
   "id": "6685142b-b26c-4df0-9095-d69ef907463f",
   "metadata": {},
   "source": [
    "If we look inside the block we'll see a succession of $R_{ZZ}$ gates that represent the problem hamiltonian:"
   ]
  },
  {
   "cell_type": "code",
   "execution_count": 727,
   "id": "f4e7436b-b9d1-4781-9afd-e8ac04712b54",
   "metadata": {},
   "outputs": [
    {
     "data": {
      "image/png": "[encoded data removed]",
      "text/plain": [
       "<Figure size 1123.61x451.5 with 1 Axes>"
      ]
     },
     "execution_count": 727,
     "metadata": {},
     "output_type": "execute_result"
    }
   ],
   "source": [
    "cost_layer.draw(\"mpl\", fold=-1)"
   ]
  },
  {
   "cell_type": "markdown",
   "id": "af59b9da-5a10-4ec8-ab9e-7d5c5d428382",
   "metadata": {},
   "source": [
    "### 2. Design pass manager for cost layer transpilation\n",
    "\n",
    "The cost layer transpilation stage will apply the swap strategies from [1,2] to optimally route the cost layer circuit into the connectivity of our backend. This collection of passes will insert swap gates to fit the circuit to the chip connectivity in a way that will allow to maximally cancel CNOT gates and reduce the total circuit depth.\n",
    "\n",
    "Note that we are routing the circuit into a `line`, which proves to be optimal in most QAOA cases. To make sure that the line fits into our chip, we use the `BackendEvaluator` utility before committing to the swap strategy:"
   ]
  },
  {
   "cell_type": "code",
   "execution_count": 728,
   "id": "06f72c9c-cb05-423f-a48c-b64492d5a171",
   "metadata": {},
   "outputs": [
    {
     "name": "stdout",
     "output_type": "stream",
     "text": [
      "[0, 4, 3, 2, 1] 0.9943841408444584\n"
     ]
    }
   ],
   "source": [
    "from qopt_best_practices.qubit_selection import BackendEvaluator\n",
    "\n",
    "# The backend evaluator finds the line of qubits with the best fidelity to map the circuit to\n",
    "path_finder = BackendEvaluator(backend)\n",
    "path, fidelity, num_subsets = path_finder.evaluate(num_qubits)\n",
    "print(path, fidelity)"
   ]
  },
  {
   "cell_type": "markdown",
   "id": "b92190f7-0644-4589-9dc9-9d44a858b7a5",
   "metadata": {},
   "source": [
    "The collection of passes defined below will be embedded into the \"pre_init\" stage of our `StagedPassManager`."
   ]
  },
  {
   "cell_type": "code",
   "execution_count": 729,
   "id": "46525022-0c33-4c3a-b394-abdea15eab44",
   "metadata": {},
   "outputs": [],
   "source": [
    "from qiskit.transpiler import PassManager\n",
    "from qiskit.transpiler.passes import (\n",
    "    BasisTranslator,\n",
    "    UnrollCustomDefinitions,\n",
    "    HighLevelSynthesis,\n",
    "    InverseCancellation\n",
    ")\n",
    "\n",
    "from qiskit.transpiler.passes.routing.commuting_2q_gate_routing import (\n",
    "    SwapStrategy,\n",
    "    Commuting2qGateRouter,\n",
    ")\n",
    "\n",
    "from qiskit.circuit.library.standard_gates.equivalence_library import _sel\n",
    "from qiskit.circuit.library import CXGate\n",
    "\n",
    "from qopt_best_practices.transpilation.prepare_cost_layer import PrepareCostLayer\n",
    "from qopt_best_practices.transpilation.swap_cancellation_pass import SwapToFinalMapping"
   ]
  },
  {
   "cell_type": "markdown",
   "id": "b41afd0d-0c95-4f9f-b758-16100b1b8c4e",
   "metadata": {},
   "source": [
    "We need to signal to the transpiler that the gates in the QAOA cost layer all commute with each other. This is done by wrapping them in a special `Commuting2qBlock` circuit instruction. This instruction is picked-up by the transpiler pass that implements the swap network."
   ]
  },
  {
   "cell_type": "code",
   "execution_count": 730,
   "id": "8375211e-fd31-4160-aa76-af03a01069f3",
   "metadata": {},
   "outputs": [],
   "source": [
    "# 1. choose swap strategy (in this case -> line)\n",
    "swap_strategy = SwapStrategy.from_line([i for i in range(num_qubits)])\n",
    "edge_coloring = {(idx, idx + 1): (idx + 1) % 2 for idx in range(num_qubits)}\n",
    "\n",
    "# 2. define pass manager for cost layer\n",
    "pre_init = PassManager(\n",
    "    [\n",
    "        PrepareCostLayer(),\n",
    "        Commuting2qGateRouter(swap_strategy, edge_coloring),\n",
    "        SwapToFinalMapping(),  # Removes unnecessary SWAP gates that the end of the block\n",
    "        HighLevelSynthesis(basis_gates=[\"x\", \"cx\", \"sx\", \"rz\", \"id\"]),\n",
    "        InverseCancellation(gates_to_cancel=[CXGate()]),\n",
    "    ]\n",
    ")"
   ]
  },
  {
   "cell_type": "code",
   "execution_count": 731,
   "id": "a724471b",
   "metadata": {},
   "outputs": [
    {
     "data": {
      "text/html": [
       "<pre style=\"word-wrap: normal;white-space: pre;background: #fff0;line-height: 1.1;font-family: &quot;Courier New&quot;,Courier,monospace\">                                                      ┌───┐  ┌───────┐  »\n",
       "q_0 -> 0 ─■────────────X───────────────────────X──────┤ H ├──┤ Rz(a) ├──»\n",
       "          │ZZ(2*γ[0])  │                       │      ├───┤  ├───────┤  »\n",
       "q_1 -> 1 ─■────────────X──■────────────X───────X──────┤ H ├──┤ Rz(a) ├──»\n",
       "                          │ZZ(2*γ[0])  │              └───┘  └─┬───┬─┘  »\n",
       "q_2 -> 2 ──────────────X──■────────────X──■─────────────X──────┤ H ├────»\n",
       "                       │                  │ZZ(2*γ[0])   │      └───┘    »\n",
       "q_3 -> 3 ─■────────────X──■────────────X──■─────────────X───■───────────»\n",
       "          │ZZ(2*γ[0])     │ZZ(2*γ[0])  │                    │ZZ(2*γ[0]) »\n",
       "q_4 -> 4 ─■───────────────■────────────X────────────────────■───────────»\n",
       "                                                                        »\n",
       "«                           \n",
       "«q_0 -> 0 ──────────────────\n",
       "«                           \n",
       "«q_1 -> 1 ──────────────────\n",
       "«         ┌───────┐         \n",
       "«q_2 -> 2 ┤ Rz(a) ├─────────\n",
       "«         └─┬───┬─┘┌───────┐\n",
       "«q_3 -> 3 ──┤ H ├──┤ Rz(a) ├\n",
       "«           ├───┤  ├───────┤\n",
       "«q_4 -> 4 ──┤ H ├──┤ Rz(a) ├\n",
       "«           └───┘  └───────┘</pre>"
      ],
      "text/plain": [
       "                                                      ┌───┐  ┌───────┐  »\n",
       "q_0 -> 0 ─■────────────X───────────────────────X──────┤ H ├──┤ Rz(a) ├──»\n",
       "          │ZZ(2*γ[0])  │                       │      ├───┤  ├───────┤  »\n",
       "q_1 -> 1 ─■────────────X──■────────────X───────X──────┤ H ├──┤ Rz(a) ├──»\n",
       "                          │ZZ(2*γ[0])  │              └───┘  └─┬───┬─┘  »\n",
       "q_2 -> 2 ──────────────X──■────────────X──■─────────────X──────┤ H ├────»\n",
       "                       │                  │ZZ(2*γ[0])   │      └───┘    »\n",
       "q_3 -> 3 ─■────────────X──■────────────X──■─────────────X───■───────────»\n",
       "          │ZZ(2*γ[0])     │ZZ(2*γ[0])  │                    │ZZ(2*γ[0]) »\n",
       "q_4 -> 4 ─■───────────────■────────────X────────────────────■───────────»\n",
       "                                                                        »\n",
       "«                           \n",
       "«q_0 -> 0 ──────────────────\n",
       "«                           \n",
       "«q_1 -> 1 ──────────────────\n",
       "«         ┌───────┐         \n",
       "«q_2 -> 2 ┤ Rz(a) ├─────────\n",
       "«         └─┬───┬─┘┌───────┐\n",
       "«q_3 -> 3 ──┤ H ├──┤ Rz(a) ├\n",
       "«           ├───┤  ├───────┤\n",
       "«q_4 -> 4 ──┤ H ├──┤ Rz(a) ├\n",
       "«           └───┘  └───────┘"
      ]
     },
     "execution_count": 731,
     "metadata": {},
     "output_type": "execute_result"
    }
   ],
   "source": [
    "fake_init = PassManager(\n",
    "    [\n",
    "        PrepareCostLayer()\n",
    "    ]\n",
    ")\n",
    "out = fake_init.run(cost_layer)\n",
    "out.h(range(cost_layer.num_qubits))\n",
    "out.rz(Parameter(\"a\"), range(cost_layer.num_qubits))\n",
    "fake_init = PassManager(\n",
    "    [\n",
    "        Commuting2qGateRouter(swap_strategy, edge_coloring),\n",
    "    ]\n",
    ")\n",
    "out2 = fake_init.run(out)\n",
    "out2.draw()"
   ]
  },
  {
   "cell_type": "markdown",
   "id": "f333cca0-f149-4f7d-bfe0-958560364342",
   "metadata": {},
   "source": [
    "We can run this pass manager independently to confirm that it performs the desired transformations:"
   ]
  },
  {
   "cell_type": "code",
   "execution_count": 732,
   "id": "eb437bce-35a6-4594-971b-cd05ab3ffcc0",
   "metadata": {},
   "outputs": [
    {
     "name": "stdout",
     "output_type": "stream",
     "text": [
      "OrderedDict([('rzz', 6)])\n"
     ]
    },
    {
     "data": {
      "image/png": "[encoded data removed]",
      "text/plain": [
       "<Figure size 1123.61x451.5 with 1 Axes>"
      ]
     },
     "execution_count": 732,
     "metadata": {},
     "output_type": "execute_result"
    }
   ],
   "source": [
    "# Before:\n",
    "print(cost_layer.count_ops())\n",
    "cost_layer.draw(\"mpl\", fold=-1)"
   ]
  },
  {
   "cell_type": "code",
   "execution_count": 733,
   "id": "2b43e5a0-83ee-4bbb-8942-d3ee64a793fa",
   "metadata": {},
   "outputs": [],
   "source": [
    "tmp = pre_init.run(cost_layer)"
   ]
  },
  {
   "cell_type": "code",
   "execution_count": 734,
   "id": "abe7c9da-2015-4d8a-b3c0-2fe5ee6107e8",
   "metadata": {},
   "outputs": [
    {
     "name": "stdout",
     "output_type": "stream",
     "text": [
      "OrderedDict([('cx', 19), ('rz', 6)])\n"
     ]
    },
    {
     "data": {
      "image/png": "[encoded data removed]",
      "text/plain": [
       "<Figure size 1594.35x451.5 with 1 Axes>"
      ]
     },
     "execution_count": 734,
     "metadata": {},
     "output_type": "execute_result"
    }
   ],
   "source": [
    "# After:\n",
    "print(tmp.count_ops())\n",
    "tmp.draw('mpl', fold=-1)"
   ]
  },
  {
   "cell_type": "markdown",
   "id": "e65e2559-eb4d-43bf-b7ce-0e07cde98d1f",
   "metadata": {},
   "source": [
    "### 3. Build QAOA Ansatz\n",
    "\n",
    "We now need to design a way to embed our optimized cost layer circuit into the QAOA ansatz, which consists of alternating layers of cost and mixer operators following an inital state. We can do it as part of a custom transformation pass that can be initialized with the desired cost layer, mixer layer, number of total layers and number of qubits. This pass will be placed at the \"init\" stage, after the pre_init pass has routed the cost layer. The pass can be found in the `transpilation` folder of the best practices."
   ]
  },
  {
   "cell_type": "code",
   "execution_count": 735,
   "id": "66fc532f-1447-4ead-9198-349aebb82ca0",
   "metadata": {},
   "outputs": [],
   "source": [
    "from qopt_best_practices.transpilation.qaoa_construction_pass import QAOAConstructionPass"
   ]
  },
  {
   "cell_type": "markdown",
   "id": "2505786d-a84c-4cb5-ab5e-d6006aa32c10",
   "metadata": {},
   "source": [
    "Once again, let's check that this custom pass runs and builds a QAOA circuit with 3 layers:"
   ]
  },
  {
   "cell_type": "code",
   "execution_count": 736,
   "id": "157e228d-e445-4670-b18a-d8628b68f0b3",
   "metadata": {},
   "outputs": [],
   "source": [
    "init = PassManager([QAOAConstructionPass(num_layers=qaoa_layers)])"
   ]
  },
  {
   "cell_type": "code",
   "execution_count": 737,
   "id": "3e60791a-f532-4f37-92e8-c88ab2d28c94",
   "metadata": {},
   "outputs": [
    {
     "name": "stdout",
     "output_type": "stream",
     "text": [
      "layout not found, assigining trivial layout\n"
     ]
    },
    {
     "data": {
      "image/png": "[encoded data removed]",
      "text/plain": [
       "<Figure size 2126.94x535.111 with 1 Axes>"
      ]
     },
     "execution_count": 737,
     "metadata": {},
     "output_type": "execute_result"
    }
   ],
   "source": [
    "tmp_out = init.run(tmp)\n",
    "tmp_out.count_ops()\n",
    "tmp_out.draw('mpl', fold=-1)"
   ]
  },
  {
   "cell_type": "markdown",
   "id": "e9d57486-be76-435d-8f6b-6fb1409857a0",
   "metadata": {},
   "source": [
    "### 4. Complete the pipeline\n",
    "\n",
    "Now that we can build our optimized QAOA ansatz, we need to fill out the remaining stages of the pipeline. We can use as a reference the output of the preset pass manager and just replace the init, pre-init and post-init stages with our custom pass managers. We will have to define a \"post_init\" step that takes care of the basis translation part to match the expected output in the default pipeline."
   ]
  },
  {
   "cell_type": "code",
   "execution_count": 738,
   "id": "283c20c0-e210-4be2-bb9c-a3f4b9f072b0",
   "metadata": {},
   "outputs": [],
   "source": [
    "from qiskit.transpiler import Layout\n",
    "\n",
    "# We use the obtained path to define the initial layout\n",
    "initial_layout = Layout.from_intlist(path, cost_layer.qregs[0])"
   ]
  },
  {
   "cell_type": "code",
   "execution_count": 739,
   "id": "58d088e0-1bf9-407f-a401-f340d3444486",
   "metadata": {},
   "outputs": [],
   "source": [
    "# The post init step unrolls the gates in the ansatz to the backend basis gates\n",
    "post_init = PassManager(\n",
    "    [\n",
    "        UnrollCustomDefinitions(_sel, basis_gates=backend.operation_names, min_qubits=3),\n",
    "        BasisTranslator(_sel, target_basis=backend.operation_names, min_qubits=3),\n",
    "    ]\n",
    ")"
   ]
  },
  {
   "cell_type": "code",
   "execution_count": 740,
   "id": "94572adc-bb1e-4fa2-9423-3e0e2245d19e",
   "metadata": {},
   "outputs": [],
   "source": [
    "staged_pm = generate_preset_pass_manager(3, backend, initial_layout=initial_layout)\n",
    "staged_pm.pre_init = pre_init\n",
    "staged_pm.init = init\n",
    "staged_pm.post_init = post_init\n",
    "# staged_pm.routing = None"
   ]
  },
  {
   "cell_type": "code",
   "execution_count": 741,
   "id": "2ea5bc0c-b991-43ba-b453-7004d467f0ef",
   "metadata": {},
   "outputs": [
    {
     "name": "stdout",
     "output_type": "stream",
     "text": [
      "pre_init\n",
      "[<qopt_best_practices.transpilation.prepare_cost_layer.PrepareCostLayer object at 0x374f939d0>, <qiskit.transpiler.passes.routing.commuting_2q_gate_routing.commuting_2q_gate_router.Commuting2qGateRouter object at 0x374eb14d0>, <qopt_best_practices.transpilation.swap_cancellation_pass.SwapToFinalMapping object at 0x3751e4e50>, <qiskit.transpiler.passes.synthesis.high_level_synthesis.HighLevelSynthesis object at 0x375112010>, <qiskit.transpiler.passes.optimization.inverse_cancellation.InverseCancellation object at 0x3751e4390>]\n",
      "----\n",
      "init\n",
      "[<qopt_best_practices.transpilation.qaoa_construction_pass.QAOAConstructionPass object at 0x374ed3f50>]\n",
      "----\n",
      "post_init\n",
      "[<qiskit.transpiler.passes.basis.unroll_custom_definitions.UnrollCustomDefinitions object at 0x374ec6150>, <qiskit.transpiler.passes.basis.basis_translator.BasisTranslator object at 0x375618b10>]\n",
      "----\n",
      "layout\n",
      "[<qiskit.transpiler.passes.layout.set_layout.SetLayout object at 0x375607110>]\n",
      "[<qiskit.passmanager.flow_controllers.ConditionalController object at 0x37561b250>]\n",
      "[<qiskit.passmanager.flow_controllers.ConditionalController object at 0x375606890>]\n",
      "[<qiskit.passmanager.flow_controllers.ConditionalController object at 0x37535b490>]\n",
      "----\n",
      "optimization\n",
      "[<qiskit.transpiler.passes.analysis.depth.Depth object at 0x3755f6910>, <qiskit.transpiler.passes.analysis.size.Size object at 0x3755f7450>, <qiskit.transpiler.passes.utils.minimum_point.MinimumPoint object at 0x3755f6990>]\n",
      "[<qiskit.passmanager.flow_controllers.DoWhileController object at 0x375344790>]\n",
      "----\n",
      "routing\n",
      "[<qiskit.transpiler.passes.utils.check_map.CheckMap object at 0x3754fe550>]\n",
      "[<qiskit.passmanager.flow_controllers.ConditionalController object at 0x37560fed0>]\n",
      "[<qiskit.transpiler.passes.utils.filter_op_nodes.FilterOpNodes object at 0x37529c610>]\n"
     ]
    }
   ],
   "source": [
    "print(\"pre_init\")\n",
    "for task in staged_pm.pre_init._tasks:\n",
    "    print(task)\n",
    "    \n",
    "print(\"----\")\n",
    "print(\"init\")\n",
    "for task in staged_pm.init._tasks:\n",
    "    print(task)\n",
    "\n",
    "print(\"----\")\n",
    "print(\"post_init\")\n",
    "for task in staged_pm.post_init._tasks:\n",
    "    print(task)\n",
    "    \n",
    "print(\"----\")\n",
    "print(\"layout\")\n",
    "for task in staged_pm.layout._tasks:\n",
    "    print(task)\n",
    "\n",
    "print(\"----\")\n",
    "print(\"optimization\")\n",
    "for task in staged_pm.optimization._tasks:\n",
    "    print(task)\n",
    "\n",
    "print(\"----\")\n",
    "print(\"routing\")\n",
    "for task in staged_pm.routing._tasks:\n",
    "    print(task)"
   ]
  },
  {
   "cell_type": "markdown",
   "id": "898ea343-ffe6-43dd-b537-dad72809c2cf",
   "metadata": {},
   "source": [
    "### 5. Run the StagedPassManager"
   ]
  },
  {
   "cell_type": "code",
   "execution_count": 742,
   "id": "4fe5e106-89ec-4942-876d-380a390b8a28",
   "metadata": {},
   "outputs": [],
   "source": [
    "t0_opt = time.time()\n",
    "optimally_transpiled_qaoa = staged_pm.run(cost_layer)\n",
    "t1_opt = time.time()"
   ]
  },
  {
   "cell_type": "markdown",
   "id": "9473406e-739f-4a9c-bf3a-977f43afed01",
   "metadata": {},
   "source": [
    "## Comparison between naive and optimal"
   ]
  },
  {
   "cell_type": "code",
   "execution_count": 743,
   "id": "acddef61-0f28-4404-bf87-1efa0d2bead8",
   "metadata": {},
   "outputs": [
    {
     "name": "stdout",
     "output_type": "stream",
     "text": [
      "2q gate count for naive circuit = 12\n",
      "2q gate count for optimal circuit = 19\n"
     ]
    }
   ],
   "source": [
    "naive_count = naively_transpiled_qaoa.count_ops().get(\"cz\", 0)\n",
    "optimal_count = optimally_transpiled_qaoa.count_ops().get(\"cz\", 0)\n",
    "\n",
    "print(f\"2q gate count for naive circuit = {naive_count}\")\n",
    "print(f\"2q gate count for optimal circuit = {optimal_count}\")"
   ]
  },
  {
   "cell_type": "code",
   "execution_count": 744,
   "id": "ace4ea38-9aae-4181-9044-ea4f39c9c4ac",
   "metadata": {},
   "outputs": [
    {
     "name": "stdout",
     "output_type": "stream",
     "text": [
      "2q depth for naive circuit = 12\n",
      "2q depth for optimal circuit = 13\n"
     ]
    }
   ],
   "source": [
    "naive_2q_depth = naively_transpiled_qaoa.depth(filter_function=lambda x: x.operation.name == \"cz\")\n",
    "optimal_2q_depth = optimally_transpiled_qaoa.depth(filter_function=lambda x: x.operation.name == \"cz\")\n",
    "\n",
    "print(f\"2q depth for naive circuit = {naive_2q_depth}\")\n",
    "print(f\"2q depth for optimal circuit = {optimal_2q_depth}\")"
   ]
  },
  {
   "cell_type": "code",
   "execution_count": 745,
   "id": "06bb299b-e0b6-4456-8361-d8610ce50f8a",
   "metadata": {},
   "outputs": [
    {
     "name": "stdout",
     "output_type": "stream",
     "text": [
      "total depth for naive circuit = 51\n",
      "total depth for optimal circuit = 49\n"
     ]
    }
   ],
   "source": [
    "naive_depth = naively_transpiled_qaoa.depth()\n",
    "optimal_depth = optimally_transpiled_qaoa.depth()\n",
    "\n",
    "print(f\"total depth for naive circuit = {naive_depth}\")\n",
    "print(f\"total depth for optimal circuit = {optimal_depth}\")"
   ]
  },
  {
   "cell_type": "code",
   "execution_count": 746,
   "id": "0faf9986-d102-494b-a8ec-4dc4b440246b",
   "metadata": {},
   "outputs": [
    {
     "name": "stdout",
     "output_type": "stream",
     "text": [
      "total time for naive transpilation = 0.0059049129486083984 (s)\n",
      "total time for optimal transpilation = 0.001950979232788086 (s)\n"
     ]
    }
   ],
   "source": [
    "time_naive = t1 - t0\n",
    "time_optimal = (t1_opt - t0_opt)\n",
    "\n",
    "print(f\"total time for naive transpilation = {time_naive} (s)\")\n",
    "print(f\"total time for optimal transpilation = {time_optimal} (s)\")"
   ]
  },
  {
   "cell_type": "code",
   "execution_count": 747,
   "id": "5e657ccf-d139-49ff-8d17-dcff640bc062",
   "metadata": {},
   "outputs": [],
   "source": [
    "# optimally_transpiled_qaoa.draw(fold=-1)"
   ]
  },
  {
   "cell_type": "code",
   "execution_count": 748,
   "id": "9e60398a-fd5f-4254-9ff6-fdf304f67b57",
   "metadata": {},
   "outputs": [],
   "source": [
    "# naively_transpiled_qaoa.draw(fold=-1)"
   ]
  },
  {
   "cell_type": "markdown",
   "id": "0ca736f8-0325-451a-a0ee-66c61ef8437e",
   "metadata": {},
   "source": [
    "## Stripping down the pipeline"
   ]
  },
  {
   "cell_type": "code",
   "execution_count": 749,
   "id": "98d5e373-232f-408f-a431-1e8a8eb23b7b",
   "metadata": {},
   "outputs": [],
   "source": [
    "from qiskit.transpiler.passes import (\n",
    "    FullAncillaAllocation,\n",
    "    EnlargeWithAncilla,\n",
    "    ApplyLayout,\n",
    "    SetLayout,\n",
    "    CommutativeCancellation,\n",
    ")\n",
    "\n",
    "# The post init step unrolls the gates in the ansatz to the backend basis gates\n",
    "post_init = PassManager(\n",
    "    [\n",
    "        UnrollCustomDefinitions(_sel, basis_gates=backend.operation_names),\n",
    "        BasisTranslator(_sel, target_basis=backend.operation_names),\n",
    "    ]\n",
    ")\n",
    "\n",
    "# The layout step applies the previously computed layout and enlarges the circuit \n",
    "# with ancilla qubits to have the same number of physical qubits as the target\n",
    "layout = PassManager(\n",
    "    [\n",
    "        SetLayout(initial_layout),\n",
    "        FullAncillaAllocation(backend.target),\n",
    "        EnlargeWithAncilla(),\n",
    "        ApplyLayout(),\n",
    "    ]\n",
    ")\n",
    "\n",
    "# The optimization step performs additional gate cancellations\n",
    "optimization = PassManager(\n",
    "    [\n",
    "      CommutativeCancellation(target=backend.target)\n",
    "    ]\n",
    ")\n",
    "\n",
    "from qiskit.transpiler import StagedPassManager\n",
    "other_staged_pm = StagedPassManager(stages=[\"init\", \"layout\", 'optimization'], pre_init=pre_init, init=init, post_init=post_init, layout=layout, optimization=optimization)"
   ]
  },
  {
   "cell_type": "code",
   "execution_count": 750,
   "id": "3c3bc123-678b-402c-9368-bd5e6480f765",
   "metadata": {},
   "outputs": [],
   "source": [
    "t0_opt = time.time()\n",
    "optimally_transpiled_qaoa = other_staged_pm.run(cost_layer)\n",
    "t1_opt = time.time()"
   ]
  },
  {
   "cell_type": "code",
   "execution_count": 751,
   "id": "2c6fc3e9-3176-4fd7-95e0-998d9e6370f5",
   "metadata": {},
   "outputs": [
    {
     "name": "stdout",
     "output_type": "stream",
     "text": [
      "2q gate count for naive circuit = 12\n",
      "2q gate count for optimal circuit = 19\n"
     ]
    }
   ],
   "source": [
    "naive_count = naively_transpiled_qaoa.count_ops().get(\"cz\", 0)\n",
    "optimal_count = optimally_transpiled_qaoa.count_ops().get(\"cz\", 0)\n",
    "\n",
    "print(f\"2q gate count for naive circuit = {naive_count}\")\n",
    "print(f\"2q gate count for optimal circuit = {optimal_count}\")"
   ]
  },
  {
   "cell_type": "code",
   "execution_count": 752,
   "id": "95fb3486-ce7d-4269-ba65-01760d0afabf",
   "metadata": {},
   "outputs": [
    {
     "name": "stdout",
     "output_type": "stream",
     "text": [
      "2q depth for naive circuit = 12\n",
      "2q depth for optimal circuit = 13\n"
     ]
    }
   ],
   "source": [
    "naive_2q_depth = naively_transpiled_qaoa.depth(filter_function=lambda x: x.operation.name == \"cz\")\n",
    "optimal_2q_depth = optimally_transpiled_qaoa.depth(filter_function=lambda x: x.operation.name == \"cz\")\n",
    "\n",
    "print(f\"2q depth for naive circuit = {naive_2q_depth}\")\n",
    "print(f\"2q depth for optimal circuit = {optimal_2q_depth}\")"
   ]
  },
  {
   "cell_type": "code",
   "execution_count": 753,
   "id": "cbb0d00d-576f-4deb-bfb7-b65739a7c475",
   "metadata": {},
   "outputs": [
    {
     "name": "stdout",
     "output_type": "stream",
     "text": [
      "total depth for naive circuit = 51\n",
      "total depth for optimal circuit = 57\n"
     ]
    }
   ],
   "source": [
    "naive_depth = naively_transpiled_qaoa.depth()\n",
    "optimal_depth = optimally_transpiled_qaoa.depth()\n",
    "\n",
    "print(f\"total depth for naive circuit = {naive_depth}\")\n",
    "print(f\"total depth for optimal circuit = {optimal_depth}\")"
   ]
  },
  {
   "cell_type": "code",
   "execution_count": 754,
   "id": "6a691276-35a1-4bc9-9037-6a8bee64a876",
   "metadata": {},
   "outputs": [
    {
     "name": "stdout",
     "output_type": "stream",
     "text": [
      "total time for naive transpilation = 0.0059049129486083984 (s)\n",
      "total time for optimal transpilation = 0.0017638206481933594 (s)\n"
     ]
    }
   ],
   "source": [
    "time_naive = t1 - t0\n",
    "time_optimal = (t1_opt - t0_opt)\n",
    "\n",
    "print(f\"total time for naive transpilation = {time_naive} (s)\")\n",
    "print(f\"total time for optimal transpilation = {time_optimal} (s)\")"
   ]
  },
  {
   "cell_type": "code",
   "execution_count": 755,
   "id": "e6bd02ad",
   "metadata": {},
   "outputs": [
    {
     "data": {
      "text/plain": [
       "ParameterView([ParameterVectorElement(β[0]), ParameterVectorElement(γ[0])])"
      ]
     },
     "execution_count": 755,
     "metadata": {},
     "output_type": "execute_result"
    }
   ],
   "source": [
    "optimally_transpiled_qaoa.parameters\n",
    "naively_transpiled_qaoa.parameters"
   ]
  },
  {
   "cell_type": "code",
   "execution_count": null,
   "id": "f415d8ea",
   "metadata": {},
   "outputs": [
    {
     "ename": "ValueError",
     "evalue": "Mismatching number of values and parameters. For partial binding please pass a mapping of {parameter: value} pairs.",
     "output_type": "error",
     "traceback": [
      "\u001b[31m---------------------------------------------------------------------------\u001b[39m",
      "\u001b[31mValueError\u001b[39m                                Traceback (most recent call last)",
      "\u001b[36mCell\u001b[39m\u001b[36m \u001b[39m\u001b[32mIn[758]\u001b[39m\u001b[32m, line 2\u001b[39m\n\u001b[32m      1\u001b[39m naively_transpiled_qaoa = naively_transpiled_qaoa.assign_parameters([\u001b[32m0.1\u001b[39m \u001b[38;5;28;01mfor\u001b[39;00m i \u001b[38;5;129;01min\u001b[39;00m naively_transpiled_qaoa.parameters])\n\u001b[32m----> \u001b[39m\u001b[32m2\u001b[39m optimally_transpiled_qaoa = \u001b[43moptimally_transpiled_qaoa\u001b[49m\u001b[43m.\u001b[49m\u001b[43massign_parameters\u001b[49m\u001b[43m(\u001b[49m\u001b[43m[\u001b[49m\u001b[32;43m0.1\u001b[39;49m\u001b[43m,\u001b[49m\u001b[43m \u001b[49m\u001b[32;43m0.2\u001b[39;49m\u001b[43m]\u001b[49m\u001b[43m)\u001b[49m\n\u001b[32m      4\u001b[39m new_circuit = QuantumCircuit(optimally_transpiled_qaoa.num_qubits)\n\u001b[32m      5\u001b[39m \u001b[38;5;28;01mfor\u001b[39;00m instr, qargs, cargs \u001b[38;5;129;01min\u001b[39;00m optimally_transpiled_qaoa.data:\n",
      "\u001b[36mFile \u001b[39m\u001b[32m~/qiskit_workspace/qopt-best-practices/.venv/lib/python3.11/site-packages/qiskit/circuit/quantumcircuit.py:4968\u001b[39m, in \u001b[36mQuantumCircuit.assign_parameters\u001b[39m\u001b[34m(self, parameters, inplace, flat_input, strict)\u001b[39m\n\u001b[32m   4966\u001b[39m     target._data.assign_parameters_mapping(raw_mapping)\n\u001b[32m   4967\u001b[39m \u001b[38;5;28;01melse\u001b[39;00m:\n\u001b[32m-> \u001b[39m\u001b[32m4968\u001b[39m     \u001b[43mtarget\u001b[49m\u001b[43m.\u001b[49m\u001b[43m_data\u001b[49m\u001b[43m.\u001b[49m\u001b[43massign_parameters_iterable\u001b[49m\u001b[43m(\u001b[49m\u001b[43mparameters\u001b[49m\u001b[43m)\u001b[49m\n\u001b[32m   4970\u001b[39m \u001b[38;5;28;01mreturn\u001b[39;00m \u001b[38;5;28;01mNone\u001b[39;00m \u001b[38;5;28;01mif\u001b[39;00m inplace \u001b[38;5;28;01melse\u001b[39;00m target\n",
      "\u001b[31mValueError\u001b[39m: Mismatching number of values and parameters. For partial binding please pass a mapping of {parameter: value} pairs."
     ]
    }
   ],
   "source": [
    "naively_transpiled_qaoa = naively_transpiled_qaoa.assign_parameters([0.1 for i in naively_transpiled_qaoa.parameters])\n",
    "optimally_transpiled_qaoa = optimally_transpiled_qaoa.assign_parameters([0.1 for i in optimally_transpiled_qaoa.parameters])\n",
    "\n",
    "new_circuit = QuantumCircuit(optimally_transpiled_qaoa.num_qubits)\n",
    "for instr, qargs, cargs in optimally_transpiled_qaoa.data:\n",
    "    if instr.name != \"measure\":\n",
    "        new_circuit.append(instr, qargs, cargs)\n",
    "\n",
    "a = Operator(new_circuit)\n",
    "b = Operator(naively_transpiled_qaoa)\n",
    "\n",
    "print(a==b)"
   ]
  },
  {
   "cell_type": "code",
   "execution_count": null,
   "id": "cbb4b9cb",
   "metadata": {},
   "outputs": [],
   "source": []
  }
 ],
 "metadata": {
  "kernelspec": {
   "display_name": ".venv",
   "language": "python",
   "name": "python3"
  },
  "language_info": {
   "codemirror_mode": {
    "name": "ipython",
    "version": 3
   },
   "file_extension": ".py",
   "mimetype": "text/x-python",
   "name": "python",
   "nbconvert_exporter": "python",
   "pygments_lexer": "ipython3",
   "version": "3.11.9"
  }
 },
 "nbformat": 4,
 "nbformat_minor": 5
}

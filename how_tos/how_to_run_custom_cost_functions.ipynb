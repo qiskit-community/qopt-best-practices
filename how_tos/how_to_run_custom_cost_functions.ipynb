{
 "cells": [
  {
   "cell_type": "markdown",
   "metadata": {
    "collapsed": true,
    "pycharm": {
     "name": "#%% md\n"
    }
   },
   "source": [
    "# How to run QAOA with a custom cost function\n",
    "\n",
    "The end-to-end QAOA example for Max-cut shows how to use the `Sampler` primitive to build a simple QAOA cost function.\n",
    "This notebook shows how this cost function can be customized, for example, to use CVaR aggregation."
   ]
  },
  {
   "cell_type": "markdown",
   "source": [
    "## 1. Implement custom cost function"
   ],
   "metadata": {
    "collapsed": false
   }
  },
  {
   "cell_type": "code",
   "execution_count": 1,
   "outputs": [],
   "source": [
    "def aggregate(alpha, measurements):\n",
    "\n",
    "    if not 0 <= alpha <= 1:\n",
    "        raise ValueError(f\"alpha must be in [0, 1] but was {alpha}\")\n",
    "\n",
    "    # sort by values\n",
    "    sorted_measurements = sorted(measurements, key=lambda x: x[1])\n",
    "    accumulated_percent = 0.0  # once alpha is reached, stop\n",
    "    cvar = 0.0\n",
    "    for probability, value in sorted_measurements:\n",
    "        cvar += value * min(probability, alpha - accumulated_percent)\n",
    "        accumulated_percent += probability\n",
    "        if accumulated_percent >= alpha:\n",
    "            break\n",
    "\n",
    "    return cvar / alpha"
   ],
   "metadata": {
    "collapsed": false,
    "pycharm": {
     "name": "#%%\n"
    }
   }
  },
  {
   "cell_type": "code",
   "execution_count": 2,
   "outputs": [],
   "source": [
    "from qopt_best_practices.cost_function import evaluate_sparse_pauli\n",
    "\n",
    "\n",
    "def cost_func_cvar_sampler(params, ansatz, hamiltonian, sampler, aggregation):\n",
    "\n",
    "    job = sampler.run(ansatz, params)\n",
    "    sampler_result = job.result()\n",
    "    sampled = sampler_result.quasi_dists[0]\n",
    "\n",
    "    # a dictionary containing: {state: (measurement probability, value)}\n",
    "    evaluated = {\n",
    "        state: (probability, evaluate_sparse_pauli(state, hamiltonian))\n",
    "        for state, probability in sampled.items()\n",
    "    }\n",
    "\n",
    "    result = aggregate(aggregation, evaluated.values())\n",
    "\n",
    "    return result"
   ],
   "metadata": {
    "collapsed": false,
    "pycharm": {
     "name": "#%%\n"
    }
   }
  },
  {
   "cell_type": "markdown",
   "source": [
    "## 2. Define backend, initial point, hamiltonian, ansatz\n",
    "\n",
    "Note that for simplicity, and to keep the focus on the cost function, this section of the workflow is NOT OPTIMIZED TO RUN ON HARDWARE, this is just a plain QAOA workflow and the selected backend is a statevector simulator. Please refer to the end-to-end tutorial for the hardware optimized version."
   ],
   "metadata": {
    "collapsed": false,
    "pycharm": {
     "name": "#%% md\n"
    }
   }
  },
  {
   "cell_type": "code",
   "execution_count": 3,
   "outputs": [],
   "source": [
    "# BASIC STATEVECTOR SIMULATOR BACKEND --> primitives in qiskit.primtives\n",
    "\n",
    "from qiskit.primitives import Sampler\n",
    "\n",
    "sampler = Sampler()"
   ],
   "metadata": {
    "collapsed": false,
    "pycharm": {
     "name": "#%%\n"
    }
   }
  },
  {
   "cell_type": "code",
   "execution_count": 5,
   "outputs": [
    {
     "name": "stdout",
     "output_type": "stream",
     "text": [
      "SparsePauliOp(['IIIIIZZIII', 'IIIIIIZIZI', 'IIIIIIZIIZ', 'ZIIIIZIIII', 'IIIIZZIIII', 'IIZIIIIZII', 'IZZIIIIIII', 'IIZZIIIIII', 'IIIIIIIZZI', 'IIIIZIIZII', 'IIIIZIIIIZ', 'IIIIIIIIZZ', 'ZZIIIIIIII', 'IZIZIIIIII', 'ZIIZIIIIII'],\n",
      "              coeffs=[1.+0.j, 1.+0.j, 1.+0.j, 1.+0.j, 1.+0.j, 1.+0.j, 1.+0.j, 1.+0.j, 1.+0.j,\n",
      " 1.+0.j, 1.+0.j, 1.+0.j, 1.+0.j, 1.+0.j, 1.+0.j])\n"
     ]
    }
   ],
   "source": [
    "# Import pre-computed Hamiltonian\n",
    "import json\n",
    "from qiskit.quantum_info import SparsePauliOp\n",
    "\n",
    "graph_file = \"../data/graph_2layers_0seed.json\"\n",
    "data = json.load(open(graph_file, \"r\"))\n",
    "hamiltonian = SparsePauliOp.from_list(data[\"paulis\"])\n",
    "print(hamiltonian)"
   ],
   "metadata": {
    "collapsed": false,
    "pycharm": {
     "name": "#%%\n"
    }
   }
  },
  {
   "cell_type": "code",
   "execution_count": 6,
   "outputs": [],
   "source": [
    "# Build basic ansatz using the circuit library utility\n",
    "from qiskit.circuit.library import QAOAAnsatz\n",
    "\n",
    "ansatz = QAOAAnsatz(hamiltonian, reps=2)\n",
    "ansatz.draw(\"mpl\")\n",
    "ansatz.measure_all()"
   ],
   "metadata": {
    "collapsed": false,
    "pycharm": {
     "name": "#%%\n"
    }
   }
  },
  {
   "cell_type": "code",
   "execution_count": 4,
   "outputs": [
    {
     "name": "stdout",
     "output_type": "stream",
     "text": [
      "[0.8125 0.4375 0.1875 0.5625]\n"
     ]
    }
   ],
   "source": [
    "# Define random initial point\n",
    "import numpy as np\n",
    "\n",
    "init_params = np.random.rand(ansatz.num_parameters)\n",
    "print(init_params)"
   ],
   "metadata": {
    "collapsed": false,
    "pycharm": {
     "name": "#%%\n"
    }
   }
  },
  {
   "cell_type": "markdown",
   "source": [
    "## 3. Run optimization\n",
    "\n",
    "The only difference with the end-to-end workflow is that we now provide the desired aggregation value as an argument to the cost function.\n"
   ],
   "metadata": {
    "collapsed": false,
    "pycharm": {
     "name": "#%% md\n"
    }
   }
  },
  {
   "cell_type": "code",
   "execution_count": 8,
   "outputs": [
    {
     "name": "stderr",
     "output_type": "stream",
     "text": [
      "/opt/anaconda3/envs/new-tutorials/lib/python3.9/site-packages/scipy/optimize/_cobyla_py.py:285: ComplexWarning: Casting complex values to real discards the imaginary part\n",
      "  xopt, info = cobyla.minimize(calcfc, m=m, x=np.copy(x0), rhobeg=rhobeg,\n"
     ]
    },
    {
     "name": "stdout",
     "output_type": "stream",
     "text": [
      " message: Optimization terminated successfully.\n",
      " success: True\n",
      "  status: 1\n",
      "     fun: -7.84765625\n",
      "       x: [ 1.966e+00  7.869e-01  1.130e+00  1.780e+00]\n",
      "    nfev: 52\n",
      "   maxcv: 0.0\n"
     ]
    }
   ],
   "source": [
    "from scipy.optimize import minimize\n",
    "\n",
    "result = minimize(\n",
    "    cost_func_cvar_sampler,\n",
    "    init_params,\n",
    "    args=(ansatz, hamiltonian, sampler, 0.5),\n",
    "    method=\"COBYLA\",\n",
    ")\n",
    "print(result)"
   ],
   "metadata": {
    "collapsed": false,
    "pycharm": {
     "name": "#%%\n"
    }
   }
  },
  {
   "cell_type": "markdown",
   "source": [
    "## 4. Sample and plot results\n",
    "\n",
    "Identical to end-to-end workflow."
   ],
   "metadata": {
    "collapsed": false
   }
  },
  {
   "cell_type": "code",
   "execution_count": 11,
   "outputs": [
    {
     "name": "stdout",
     "output_type": "stream",
     "text": [
      "[1 1 1 1 1 0 0 0 1 1]\n"
     ]
    },
    {
     "name": "stderr",
     "output_type": "stream",
     "text": [
      "/var/folders/wy/lry0jnrs2h30d7hgtthkmpwc0000gn/T/ipykernel_40616/3512005436.py:2: DeprecationWarning: Insufficient bit width provided. This behavior will raise an error in the future.\n",
      "  result = np.binary_repr(n, width=L)\n"
     ]
    },
    {
     "data": {
      "text/plain": "<Figure size 432x288 with 1 Axes>",
      "image/png": "[encoded data removed]"
     },
     "metadata": {},
     "output_type": "display_data"
    }
   ],
   "source": [
    "def bitfield(n, L):\n",
    "    result = np.binary_repr(n, width=L)\n",
    "    return [int(digit) for digit in result]\n",
    "\n",
    "\n",
    "def sample_most_likely(state_vector):\n",
    "    values = list(state_vector.values())\n",
    "    n = int(np.log2(len(values)))\n",
    "    k = np.argmax(np.abs(values))\n",
    "    x = bitfield(k, n)\n",
    "    x.reverse()\n",
    "    return np.asarray(x)\n",
    "\n",
    "\n",
    "qc = ansatz.assign_parameters(result.x)\n",
    "samp_dist = sampler.run(qc, shots=int(1e4)).result().quasi_dists[0]\n",
    "\n",
    "best_result = sample_most_likely(samp_dist)\n",
    "print(best_result)\n",
    "\n",
    "import matplotlib.pyplot as plt\n",
    "import networkx as nx\n",
    "from qopt_best_practices.utils import build_max_cut_graph\n",
    "\n",
    "# auxiliary function to plot graphs\n",
    "def plot_result(G, x):\n",
    "    colors = [\"r\" if i == 0 else \"b\" for i in x]\n",
    "    pos, default_axes = nx.spring_layout(G), plt.axes(frameon=True)\n",
    "    nx.draw_networkx(G, node_color=colors, node_size=600, alpha=0.8, pos=pos)\n",
    "\n",
    "\n",
    "plot_result(build_max_cut_graph(data[\"paulis\"]), best_result)"
   ],
   "metadata": {
    "collapsed": false,
    "pycharm": {
     "name": "#%%\n"
    }
   }
  }
 ],
 "metadata": {
  "kernelspec": {
   "display_name": "Python 3",
   "language": "python",
   "name": "python3"
  },
  "language_info": {
   "codemirror_mode": {
    "name": "ipython",
    "version": 2
   },
   "file_extension": ".py",
   "mimetype": "text/x-python",
   "name": "python",
   "nbconvert_exporter": "python",
   "pygments_lexer": "ipython2",
   "version": "2.7.6"
  }
 },
 "nbformat": 4,
 "nbformat_minor": 0
}
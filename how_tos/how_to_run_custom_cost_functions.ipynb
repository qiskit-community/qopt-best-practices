{
 "cells": [
  {
   "cell_type": "markdown",
   "metadata": {
    "collapsed": true,
    "jupyter": {
     "outputs_hidden": true
    },
    "pycharm": {
     "name": "#%% md\n"
    }
   },
   "source": [
    "# How to run QAOA with a custom cost function\n",
    "\n",
    "The end-to-end QAOA example for Max-cut shows how to use the `Sampler` primitive to build a simple QAOA cost function.\n",
    "This notebook shows how this cost function can be customized, for example, to use CVaR aggregation."
   ]
  },
  {
   "cell_type": "markdown",
   "metadata": {
    "collapsed": false,
    "jupyter": {
     "outputs_hidden": false
    }
   },
   "source": [
    "## 1. Implement custom cost function"
   ]
  },
  {
   "cell_type": "code",
   "execution_count": 1,
   "metadata": {
    "collapsed": false,
    "jupyter": {
     "outputs_hidden": false
    },
    "pycharm": {
     "name": "#%%\n"
    }
   },
   "outputs": [],
   "source": [
    "def aggregate(alpha, measurements):\n",
    "\n",
    "    if not 0 <= alpha <= 1:\n",
    "        raise ValueError(f\"alpha must be in [0, 1] but was {alpha}\")\n",
    "\n",
    "    # sort by values\n",
    "    sorted_measurements = sorted(measurements, key=lambda x: x[1])\n",
    "    accumulated_percent = 0.0  # once alpha is reached, stop\n",
    "    cvar = 0.0\n",
    "    for probability, value in sorted_measurements:\n",
    "        cvar += value * min(probability, alpha - accumulated_percent)\n",
    "        accumulated_percent += probability\n",
    "        if accumulated_percent >= alpha:\n",
    "            break\n",
    "\n",
    "    return cvar / alpha"
   ]
  },
  {
   "cell_type": "code",
   "execution_count": 2,
   "metadata": {
    "collapsed": false,
    "jupyter": {
     "outputs_hidden": false
    },
    "pycharm": {
     "name": "#%%\n"
    }
   },
   "outputs": [],
   "source": [
    "from qopt_best_practices.cost_function import evaluate_sparse_pauli\n",
    "\n",
    "\n",
    "def cost_func_cvar_sampler(params, ansatz, hamiltonian, sampler, aggregation):\n",
    "\n",
    "    job = sampler.run(ansatz, params)\n",
    "    sampler_result = job.result()\n",
    "    sampled = sampler_result.quasi_dists[0]\n",
    "\n",
    "    # a dictionary containing: {state: (measurement probability, value)}\n",
    "    evaluated = {\n",
    "        state: (probability, evaluate_sparse_pauli(state, hamiltonian))\n",
    "        for state, probability in sampled.items()\n",
    "    }\n",
    "\n",
    "    result = aggregate(aggregation, evaluated.values())\n",
    "\n",
    "    return result"
   ]
  },
  {
   "cell_type": "markdown",
   "metadata": {
    "collapsed": false,
    "jupyter": {
     "outputs_hidden": false
    },
    "pycharm": {
     "name": "#%% md\n"
    }
   },
   "source": [
    "## 2. Define backend, initial point, hamiltonian, ansatz\n",
    "\n",
    "Note that for simplicity, and to keep the focus on the cost function, this section of the workflow is NOT OPTIMIZED TO RUN ON HARDWARE, this is just a plain QAOA workflow and the selected backend is a statevector simulator. Please refer to the end-to-end tutorial for the hardware optimized version."
   ]
  },
  {
   "cell_type": "code",
   "execution_count": 3,
   "metadata": {
    "collapsed": false,
    "jupyter": {
     "outputs_hidden": false
    },
    "pycharm": {
     "name": "#%%\n"
    }
   },
   "outputs": [],
   "source": [
    "# BASIC STATEVECTOR SIMULATOR BACKEND --> primitives in qiskit.primtives\n",
    "\n",
    "from qiskit.primitives import Sampler\n",
    "\n",
    "sampler = Sampler()"
   ]
  },
  {
   "cell_type": "code",
   "execution_count": 4,
   "metadata": {
    "collapsed": false,
    "jupyter": {
     "outputs_hidden": false
    },
    "pycharm": {
     "name": "#%%\n"
    }
   },
   "outputs": [
    {
     "name": "stdout",
     "output_type": "stream",
     "text": [
      "SparsePauliOp(['IIIIIZZIII', 'IIIIIIZIZI', 'IIIIIIZIIZ', 'ZIIIIZIIII', 'IIIIZZIIII', 'IIZIIIIZII', 'IZZIIIIIII', 'IIZZIIIIII', 'IIIIIIIZZI', 'IIIIZIIZII', 'IIIIZIIIIZ', 'IIIIIIIIZZ', 'ZZIIIIIIII', 'IZIZIIIIII', 'ZIIZIIIIII'],\n",
      "              coeffs=[1.+0.j, 1.+0.j, 1.+0.j, 1.+0.j, 1.+0.j, 1.+0.j, 1.+0.j, 1.+0.j, 1.+0.j,\n",
      " 1.+0.j, 1.+0.j, 1.+0.j, 1.+0.j, 1.+0.j, 1.+0.j])\n"
     ]
    }
   ],
   "source": [
    "# Import pre-computed Hamiltonian\n",
    "import json\n",
    "from qiskit.quantum_info import SparsePauliOp\n",
    "\n",
    "graph_file = \"data/graph_2layers_0seed.json\"\n",
    "data = json.load(open(graph_file, \"r\"))\n",
    "hamiltonian = SparsePauliOp.from_list(data[\"paulis\"])\n",
    "print(hamiltonian)"
   ]
  },
  {
   "cell_type": "code",
   "execution_count": 5,
   "metadata": {
    "collapsed": false,
    "jupyter": {
     "outputs_hidden": false
    },
    "pycharm": {
     "name": "#%%\n"
    }
   },
   "outputs": [],
   "source": [
    "# Build basic ansatz using the circuit library utility\n",
    "from qiskit.circuit.library import QAOAAnsatz\n",
    "\n",
    "ansatz = QAOAAnsatz(hamiltonian, reps=2)\n",
    "ansatz.draw(\"mpl\")\n",
    "ansatz.measure_all()"
   ]
  },
  {
   "cell_type": "code",
   "execution_count": 6,
   "metadata": {
    "collapsed": false,
    "jupyter": {
     "outputs_hidden": false
    },
    "pycharm": {
     "name": "#%%\n"
    }
   },
   "outputs": [
    {
     "name": "stdout",
     "output_type": "stream",
     "text": [
      "[0.52285883 0.609157   0.35799065 0.75434753]\n"
     ]
    }
   ],
   "source": [
    "# Define random initial point\n",
    "import numpy as np\n",
    "\n",
    "init_params = np.random.rand(ansatz.num_parameters)\n",
    "print(init_params)"
   ]
  },
  {
   "cell_type": "markdown",
   "metadata": {
    "collapsed": false,
    "jupyter": {
     "outputs_hidden": false
    },
    "pycharm": {
     "name": "#%% md\n"
    }
   },
   "source": [
    "## 3. Run optimization\n",
    "\n",
    "The only difference with the end-to-end workflow is that we now provide the desired aggregation value as an argument to the cost function.\n"
   ]
  },
  {
   "cell_type": "code",
   "execution_count": 7,
   "metadata": {
    "collapsed": false,
    "jupyter": {
     "outputs_hidden": false
    },
    "pycharm": {
     "name": "#%%\n"
    }
   },
   "outputs": [
    {
     "name": "stderr",
     "output_type": "stream",
     "text": [
      "/opt/anaconda3/envs/ibm_tech/lib/python3.10/site-packages/scipy/optimize/_cobyla_py.py:293: ComplexWarning: Casting complex values to real discards the imaginary part\n",
      "  xopt, info = cobyla.minimize(calcfc, m=m, x=np.copy(x0), rhobeg=rhobeg,\n"
     ]
    },
    {
     "name": "stdout",
     "output_type": "stream",
     "text": [
      " message: Optimization terminated successfully.\n",
      " success: True\n",
      "  status: 1\n",
      "     fun: -8.354912689326666\n",
      "       x: [-2.087e-01 -3.520e-01  3.834e-01  8.273e-01]\n",
      "    nfev: 61\n",
      "   maxcv: 0.0\n"
     ]
    }
   ],
   "source": [
    "from scipy.optimize import minimize\n",
    "\n",
    "result = minimize(\n",
    "    cost_func_cvar_sampler,\n",
    "    init_params,\n",
    "    args=(ansatz, hamiltonian, sampler, 0.5),\n",
    "    method=\"COBYLA\",\n",
    ")\n",
    "print(result)"
   ]
  },
  {
   "cell_type": "markdown",
   "metadata": {
    "collapsed": false,
    "jupyter": {
     "outputs_hidden": false
    }
   },
   "source": [
    "## 4. Sample and plot results\n",
    "\n",
    "Identical to end-to-end workflow."
   ]
  },
  {
   "cell_type": "code",
   "execution_count": 8,
   "metadata": {},
   "outputs": [],
   "source": [
    "# auxiliary functions to sample most likely bitstring\n",
    "def to_bitstring(integer, num_bits):\n",
    "    result = np.binary_repr(integer, width=num_bits)\n",
    "    return [int(digit) for digit in result]\n",
    "\n",
    "\n",
    "def sample_most_likely_bitstring(state_vector, num_bits):\n",
    "    values = list(state_vector.values())\n",
    "    most_likely = np.argmax(np.abs(values))\n",
    "    most_likely_bitstring = to_bitstring(most_likely, num_bits)\n",
    "    most_likely_bitstring.reverse()\n",
    "    return np.asarray(most_likely_bitstring)"
   ]
  },
  {
   "cell_type": "code",
   "execution_count": 9,
   "metadata": {},
   "outputs": [],
   "source": [
    "import matplotlib.pyplot as plt\n",
    "import networkx as nx\n",
    "\n",
    "# auxiliary function to plot graphs\n",
    "def plot_result(G, x):\n",
    "    colors = [\"r\" if i == 0 else \"b\" for i in x]\n",
    "    pos, default_axes = nx.spring_layout(G), plt.axes(frameon=True)\n",
    "    nx.draw_networkx(G, node_color=colors, node_size=600, alpha=0.8, pos=pos)"
   ]
  },
  {
   "cell_type": "code",
   "execution_count": 10,
   "metadata": {
    "collapsed": false,
    "jupyter": {
     "outputs_hidden": false
    },
    "pycharm": {
     "name": "#%%\n"
    }
   },
   "outputs": [
    {
     "data": {
      "image/png": "[encoded data removed]",
      "text/plain": [
       "<Figure size 640x480 with 1 Axes>"
      ]
     },
     "metadata": {},
     "output_type": "display_data"
    }
   ],
   "source": [
    "from qopt_best_practices.utils import build_max_cut_graph\n",
    "\n",
    "graph = build_max_cut_graph(data[\"paulis\"])\n",
    "\n",
    "qc = ansatz.assign_parameters(result.x)\n",
    "samp_dist = sampler.run(qc, shots=int(1e4)).result().quasi_dists[0]\n",
    "\n",
    "best_result = sample_most_likely_bitstring(samp_dist, len(graph))\n",
    "\n",
    "plot_result(graph, best_result)"
   ]
  }
 ],
 "metadata": {
  "kernelspec": {
   "display_name": "ibm_tech",
   "language": "python",
   "name": "ibm_tech"
  },
  "language_info": {
   "codemirror_mode": {
    "name": "ipython",
    "version": 3
   },
   "file_extension": ".py",
   "mimetype": "text/x-python",
   "name": "python",
   "nbconvert_exporter": "python",
   "pygments_lexer": "ipython3",
   "version": "3.10.0"
  }
 },
 "nbformat": 4,
 "nbformat_minor": 4
}

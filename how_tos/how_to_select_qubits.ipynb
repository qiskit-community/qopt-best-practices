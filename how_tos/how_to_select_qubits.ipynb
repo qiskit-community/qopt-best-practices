{
 "cells": [
  {
   "cell_type": "markdown",
   "metadata": {
    "collapsed": true,
    "jupyter": {
     "outputs_hidden": true
    },
    "pycharm": {
     "name": "#%% md\n"
    }
   },
   "source": [
    "# How to select the qubit subset to run your circuit on HW\n",
    "\n",
    "The `BackendEvaluator` util allows you to find the best subset of qubits of a given **geometry** according to a given **metric**. This is useful to define the initial layout for the circuit transpilation to run on hardware."
   ]
  },
  {
   "cell_type": "markdown",
   "metadata": {
    "collapsed": false,
    "jupyter": {
     "outputs_hidden": false
    }
   },
   "source": [
    "\n",
    "## 1. Running with default settings\n",
    "\n",
    "By default, the `BackendEvaluator` class will try to find the line (geometry) witht the best 2-qubit gate fidelity (metric) for a given backend. Let's see this in action for 10 qubits in a fake 16-qubit backend."
   ]
  },
  {
   "cell_type": "code",
   "execution_count": 1,
   "metadata": {
    "collapsed": false,
    "jupyter": {
     "outputs_hidden": false
    },
    "pycharm": {
     "name": "#%%\n"
    }
   },
   "outputs": [],
   "source": [
    "# SIMULATED FAKE BACKEND\n",
    "from qiskit_ibm_runtime.fake_provider import FakeGuadalupe\n",
    "\n",
    "backend = FakeGuadalupe()"
   ]
  },
  {
   "cell_type": "code",
   "execution_count": 2,
   "metadata": {
    "collapsed": false,
    "jupyter": {
     "outputs_hidden": false
    },
    "pycharm": {
     "name": "#%%\n"
    }
   },
   "outputs": [
    {
     "data": {
      "image/png": "[encoded data removed]",
      "text/plain": [
       "<Figure size 713x492.2 with 1 Axes>"
      ]
     },
     "execution_count": 2,
     "metadata": {},
     "output_type": "execute_result"
    }
   ],
   "source": [
    "from qiskit.visualization import plot_gate_map\n",
    "\n",
    "plot_gate_map(backend)"
   ]
  },
  {
   "cell_type": "code",
   "execution_count": 3,
   "metadata": {
    "collapsed": false,
    "jupyter": {
     "outputs_hidden": false
    },
    "pycharm": {
     "name": "#%%\n"
    }
   },
   "outputs": [
    {
     "name": "stdout",
     "output_type": "stream",
     "text": [
      "Best path:  [1, 4, 7, 10, 12, 13, 14, 11, 8, 5]\n",
      "Best path fidelity 0.9099375156097996\n",
      "Num. evaluated paths 20\n"
     ]
    }
   ],
   "source": [
    "from qopt_best_practices.qubit_selection import BackendEvaluator\n",
    "\n",
    "num_qubits = 10\n",
    "path_finder = BackendEvaluator(backend)\n",
    "path, fidelity, num_subsets = path_finder.evaluate(num_qubits)\n",
    "\n",
    "print(\"Best path: \", path)\n",
    "print(\"Best path fidelity\", fidelity)\n",
    "print(\"Num. evaluated paths\", num_subsets)"
   ]
  },
  {
   "cell_type": "markdown",
   "metadata": {
    "collapsed": false,
    "jupyter": {
     "outputs_hidden": false
    },
    "pycharm": {
     "name": "#%% md\n"
    }
   },
   "source": [
    "## 2. Running with custom evaluation criteria\n",
    "\n",
    "The evaluation criteria can also be defined by the user and given to the `BackendEvaluator` class as a callable:\n"
   ]
  },
  {
   "cell_type": "code",
   "execution_count": 4,
   "metadata": {
    "collapsed": false,
    "jupyter": {
     "outputs_hidden": false
    },
    "pycharm": {
     "name": "#%%\n"
    }
   },
   "outputs": [],
   "source": [
    "from __future__ import annotations\n",
    "import numpy as np\n",
    "import rustworkx as rx\n",
    "\n",
    "from qiskit.transpiler import CouplingMap\n",
    "\n",
    "\n",
    "def find_lines(length: int, backend, coupling_map: CouplingMap | None = None) -> list[int]:\n",
    "    \"\"\"Finds all possible lines of length `length` for a specific backend topology.\n",
    "\n",
    "    This method can take quite some time to run on large devices since there\n",
    "    are many paths.\n",
    "\n",
    "    Returns:\n",
    "        The found paths.\n",
    "    \"\"\"\n",
    "\n",
    "    # might make sense to make backend the only input for simplicity\n",
    "    if coupling_map is None:\n",
    "        coupling_map = CouplingMap(backend.configuration().coupling_map)\n",
    "\n",
    "    all_paths = rx.all_pairs_all_simple_paths(\n",
    "        coupling_map.graph,\n",
    "        min_depth=length,\n",
    "        cutoff=length,\n",
    "    ).values()\n",
    "\n",
    "    paths = np.asarray(\n",
    "        [\n",
    "            (list(c), list(sorted(list(c))))\n",
    "            for a in iter(all_paths)\n",
    "            for b in iter(a)\n",
    "            for c in iter(a[b])\n",
    "        ]\n",
    "    )\n",
    "\n",
    "    # filter out duplicated paths\n",
    "    _, unique_indices = np.unique(paths[:, 1], return_index=True, axis=0)\n",
    "    paths = paths[:, 0][unique_indices].tolist()\n",
    "\n",
    "    return paths"
   ]
  },
  {
   "cell_type": "code",
   "execution_count": 5,
   "metadata": {
    "collapsed": false,
    "jupyter": {
     "outputs_hidden": false
    },
    "pycharm": {
     "name": "#%%\n"
    }
   },
   "outputs": [],
   "source": [
    "def evaluate_fidelity(path: list[int], backend, edges) -> float:\n",
    "    \"\"\"Evaluates fidelity on a given list of qubits based on the two-qubit gate error\n",
    "    for a specific backend.\n",
    "\n",
    "    Returns:\n",
    "       Path fidelity.\n",
    "    \"\"\"\n",
    "\n",
    "    two_qubit_fidelity = {}\n",
    "    props = backend.properties()\n",
    "\n",
    "    if \"cx\" in backend.configuration().basis_gates:\n",
    "        gate_name = \"cx\"\n",
    "    elif \"ecr\" in backend.configuration().basis_gates:\n",
    "        gate_name = \"ecr\"\n",
    "    else:\n",
    "        raise ValueError(\"Could not identify two-qubit gate\")\n",
    "\n",
    "    for edge in edges:\n",
    "        try:\n",
    "            cx_error = props.gate_error(gate_name, edge)\n",
    "\n",
    "        except:\n",
    "            cx_error = props.gate_error(gate_name, edge[::-1])\n",
    "\n",
    "        two_qubit_fidelity[tuple(edge)] = 1 - cx_error\n",
    "\n",
    "    if not path or len(path) == 1:\n",
    "        return 0.0\n",
    "\n",
    "    fidelity = 1.0\n",
    "    for idx in range(len(path) - 1):\n",
    "        fidelity *= two_qubit_fidelity[(path[idx], path[idx + 1])]\n",
    "\n",
    "    return fidelity"
   ]
  },
  {
   "cell_type": "code",
   "execution_count": 6,
   "metadata": {
    "collapsed": false,
    "jupyter": {
     "outputs_hidden": false
    },
    "pycharm": {
     "name": "#%%\n"
    }
   },
   "outputs": [
    {
     "name": "stdout",
     "output_type": "stream",
     "text": [
      "Best path:  [1, 4, 7, 10, 12, 13, 14, 11, 8, 5]\n",
      "Best path fidelity 0.9099375156097996\n",
      "Num. evaluated paths 20\n"
     ]
    }
   ],
   "source": [
    "num_qubits = 10\n",
    "path_finder = BackendEvaluator(backend)\n",
    "path, fidelity, num_subsets = path_finder.evaluate(\n",
    "    num_qubits, subset_finder=find_lines, metric_eval=evaluate_fidelity\n",
    ")\n",
    "\n",
    "print(\"Best path: \", path)\n",
    "print(\"Best path fidelity\", fidelity)\n",
    "print(\"Num. evaluated paths\", num_subsets)\n"
   ]
  }
 ],
 "metadata": {
  "kernelspec": {
   "display_name": "ibm_tech",
   "language": "python",
   "name": "ibm_tech"
  },
  "language_info": {
   "codemirror_mode": {
    "name": "ipython",
    "version": 3
   },
   "file_extension": ".py",
   "mimetype": "text/x-python",
   "name": "python",
   "nbconvert_exporter": "python",
   "pygments_lexer": "ipython3",
   "version": "3.10.0"
  }
 },
 "nbformat": 4,
 "nbformat_minor": 4
}

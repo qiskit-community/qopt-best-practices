{
 "cells": [
  {
   "cell_type": "markdown",
   "id": "f0b4c9d0",
   "metadata": {},
   "source": [
    "# Transpilation Technique Comparison"
   ]
  },
  {
   "cell_type": "code",
   "execution_count": 151,
   "id": "4bbee1f6",
   "metadata": {},
   "outputs": [],
   "source": [
    "from networkx import barabasi_albert_graph, draw\n",
    "from qopt_best_practices.utils import build_max_cut_paulis\n",
    "from qiskit.quantum_info import SparsePauliOp\n",
    "from qopt_best_practices.transpilation.cost_layer import get_cost_layer\n",
    "from qiskit.circuit.library import QAOAAnsatz\n",
    "import networkx as nx\n",
    "import numpy as np\n",
    "import matplotlib.pyplot as plt\n",
    "from qiskit_optimization.applications import Maxcut\n",
    "from qiskit.providers.fake_provider import GenericBackendV2\n",
    "from qopt_best_practices.qubit_selection import BackendEvaluator\n",
    "from qiskit.transpiler import Layout\n",
    "from qiskit.circuit.library import qaoa_ansatz\n",
    "from qiskit.transpiler.preset_passmanagers import generate_preset_pass_manager\n",
    "import time\n",
    "from qiskit.transpiler.passes.routing.commuting_2q_gate_routing import (\n",
    "    SwapStrategy,\n",
    "    Commuting2qGateRouter,\n",
    ")\n",
    "from qiskit.transpiler import PassManager\n",
    "from qopt_best_practices.transpilation.prepare_cost_layer import PrepareCostLayer\n",
    "from qopt_best_practices.transpilation.swap_cancellation_pass import SwapToFinalMapping\n",
    "from qiskit.circuit.library.standard_gates.equivalence_library import _sel\n",
    "from qiskit.circuit.library import CXGate\n",
    "from qiskit.transpiler.passes import (\n",
    "    BasisTranslator,\n",
    "    UnrollCustomDefinitions,\n",
    "    HighLevelSynthesis,\n",
    "    InverseCancellation\n",
    ")\n",
    "from qopt_best_practices.transpilation.qaoa_construction_pass import QAOAConstructionPass\n",
    "from test_annotated_ansatz import annotated_qaoa_ansatz, AnnotatedPrepareCostLayer, AnnotatedCommuting2qGateRouter\n"
   ]
  },
  {
   "cell_type": "code",
   "execution_count": 152,
   "id": "42763386",
   "metadata": {},
   "outputs": [],
   "source": [
    "def get_problem_qopt(n=4, m=3):\n",
    "    graph = barabasi_albert_graph(n=n, m=3, seed=42)\n",
    "    local_correlators = build_max_cut_paulis(graph)\n",
    "    cost_operator = SparsePauliOp.from_list(local_correlators)\n",
    "    cost_layer = get_cost_layer(cost_operator)\n",
    "    return cost_operator, cost_layer, graph\n",
    "\n",
    "def get_problem_maxcut(n=4, elist = [(0, 1, 1.0), (0, 2, 1.0), (1, 2, 1.0), (2, 3, 1.0)]):\n",
    "    graph = nx.Graph()\n",
    "    graph.add_nodes_from(np.arange(0, n, 1))\n",
    "    # tuple is (i,j,weight) where (i,j) is the edge\n",
    "    graph.add_weighted_edges_from(elist)\n",
    "    max_cut = Maxcut(graph)\n",
    "    qubo = max_cut.to_quadratic_program()\n",
    "    cost_operator, offset = qubo.to_ising()\n",
    "    cost_layer = get_cost_layer(cost_operator)\n",
    "    return cost_operator, cost_layer, graph\n",
    "\n",
    "def backend_and_layout_a(cost_layer):\n",
    "    backend = GenericBackendV2(num_qubits = cost_layer.num_qubits, basis_gates = [\"x\", \"sx\", \"cz\", \"id\", \"rz\"], seed=0)\n",
    "    path_finder = BackendEvaluator(backend)\n",
    "    path, fidelity, num_subsets = path_finder.evaluate(cost_layer.num_qubits)\n",
    "    initial_layout = Layout.from_intlist(path, cost_layer.qregs[0])\n",
    "    return backend, initial_layout\n"
   ]
  },
  {
   "cell_type": "code",
   "execution_count": 153,
   "id": "4b50ccf5",
   "metadata": {},
   "outputs": [],
   "source": [
    "from qiskit.primitives import StatevectorEstimator\n",
    "\n",
    "estimator = StatevectorEstimator()\n",
    "optimal_gamma = 5.11350346\n",
    "optimal_beta = 5.52673212"
   ]
  },
  {
   "cell_type": "markdown",
   "id": "343f3cfc",
   "metadata": {},
   "source": [
    "# 0. Problem Definition"
   ]
  },
  {
   "cell_type": "code",
   "execution_count": 154,
   "id": "3bf217b2",
   "metadata": {},
   "outputs": [
    {
     "data": {
      "image/png": "[encoded data removed]",
      "text/plain": [
       "<Figure size 640x480 with 1 Axes>"
      ]
     },
     "metadata": {},
     "output_type": "display_data"
    }
   ],
   "source": [
    "hamiltonian, cost_layer, graph = get_problem_qopt()\n",
    "backend, initial_layout = backend_and_layout_a(cost_layer)\n",
    "draw(graph, with_labels=True)"
   ]
  },
  {
   "cell_type": "markdown",
   "id": "3dfa8b9b",
   "metadata": {},
   "source": [
    "# 1. Standard Workflow"
   ]
  },
  {
   "cell_type": "code",
   "execution_count": 155,
   "id": "3f9045d9",
   "metadata": {},
   "outputs": [
    {
     "data": {
      "text/html": [
       "<pre style=\"word-wrap: normal;white-space: pre;background: #fff0;line-height: 1.1;font-family: &quot;Courier New&quot;,Courier,monospace\">     ┌───┐                                                     ┌────────────┐\n",
       "q_0: ┤ H ├─■────────────■──────────────────────────■───────────┤ Rx(2*β[0]) ├\n",
       "     ├───┤ │ZZ(2*γ[0])  │           ┌────────────┐ │           └────────────┘\n",
       "q_1: ┤ H ├─■────────────┼───────────┤ Rx(2*β[0]) ├─┼─────────────────────────\n",
       "     ├───┤              │ZZ(2*γ[0]) ├────────────┤ │                         \n",
       "q_2: ┤ H ├──────────────■───────────┤ Rx(2*β[0]) ├─┼─────────────────────────\n",
       "     ├───┤                          └────────────┘ │ZZ(2*γ[0]) ┌────────────┐\n",
       "q_3: ┤ H ├─────────────────────────────────────────■───────────┤ Rx(2*β[0]) ├\n",
       "     └───┘                                                     └────────────┘</pre>"
      ],
      "text/plain": [
       "     ┌───┐                                                     ┌────────────┐\n",
       "q_0: ┤ H ├─■────────────■──────────────────────────■───────────┤ Rx(2*β[0]) ├\n",
       "     ├───┤ │ZZ(2*γ[0])  │           ┌────────────┐ │           └────────────┘\n",
       "q_1: ┤ H ├─■────────────┼───────────┤ Rx(2*β[0]) ├─┼─────────────────────────\n",
       "     ├───┤              │ZZ(2*γ[0]) ├────────────┤ │                         \n",
       "q_2: ┤ H ├──────────────■───────────┤ Rx(2*β[0]) ├─┼─────────────────────────\n",
       "     ├───┤                          └────────────┘ │ZZ(2*γ[0]) ┌────────────┐\n",
       "q_3: ┤ H ├─────────────────────────────────────────■───────────┤ Rx(2*β[0]) ├\n",
       "     └───┘                                                     └────────────┘"
      ]
     },
     "execution_count": 155,
     "metadata": {},
     "output_type": "execute_result"
    }
   ],
   "source": [
    "qaoa_circuit = qaoa_ansatz(hamiltonian, reps = 1)\n",
    "qaoa_circuit.draw(fold=-1)"
   ]
  },
  {
   "cell_type": "code",
   "execution_count": 156,
   "id": "25ab99f3",
   "metadata": {},
   "outputs": [],
   "source": [
    "naive_pm = generate_preset_pass_manager(backend=backend, optimization_level=3)"
   ]
  },
  {
   "cell_type": "code",
   "execution_count": 157,
   "id": "92c39b44",
   "metadata": {},
   "outputs": [
    {
     "name": "stdout",
     "output_type": "stream",
     "text": [
      "transpilation time: 0.0015940666198730469 (s)\n",
      "OrderedDict([('rz', 19), ('sx', 12), ('cz', 6)])\n"
     ]
    }
   ],
   "source": [
    "t0 = time.time()\n",
    "naive_circuit = naive_pm.run(qaoa_circuit)\n",
    "t1 = time.time()\n",
    "print(f\"transpilation time: {t1 - t0} (s)\")\n",
    "print(naive_circuit.count_ops())"
   ]
  },
  {
   "cell_type": "code",
   "execution_count": 158,
   "id": "ce4e2ab9",
   "metadata": {},
   "outputs": [
    {
     "data": {
      "text/html": [
       "<pre style=\"word-wrap: normal;white-space: pre;background: #fff0;line-height: 1.1;font-family: &quot;Courier New&quot;,Courier,monospace\">global phase: π\n",
       "                                      ┌─────────┐┌────┐┌───────┐┌────────────┐┌────┐   ┌────────────────┐   ┌────┐  ┌──────────┐                                                                                                                                                                     \n",
       "q_1 -> 0 ───────────────────────────■─┤ Rz(π/2) ├┤ √X ├┤ Rz(π) ├┤ Rz(2*γ[0]) ├┤ √X ├─■─┤ Rz(π + 2*β[0]) ├───┤ √X ├──┤ Rz(5π/2) ├─────────────────────────────────────────────────────────────────────────────────────────────────────────────────────────────────────────────────────────────────────\n",
       "                                    │ └─────────┘└────┘└───────┘└────────────┘└────┘ │ └────────────────┘┌──┴────┴─┐└──┬────┬──┘┌───────┐┌────────────┐┌────┐   ┌────────────────┐   ┌────┐  ┌──────────┐                                                                                            \n",
       "q_2 -> 1 ───────────────────────────┼────────────────────────────────────────────────┼─────────■─────────┤ Rz(π/2) ├───┤ √X ├───┤ Rz(π) ├┤ Rz(2*γ[0]) ├┤ √X ├─■─┤ Rz(π + 2*β[0]) ├───┤ √X ├──┤ Rz(5π/2) ├────────────────────────────────────────────────────────────────────────────────────────────\n",
       "                                    │                                                │         │         └─────────┘   └────┘   └───────┘└────────────┘└────┘ │ └────────────────┘┌──┴────┴─┐└──┬────┬──┘┌───────┐┌────────────┐┌────┐   ┌────────────────┐      ┌────┐      ┌──────────┐            \n",
       "q_3 -> 2 ───────────────────────────┼────────────────────────────────────────────────┼─────────┼──────────────────────────────────────────────────────────────┼─────────■─────────┤ Rz(π/2) ├───┤ √X ├───┤ Rz(π) ├┤ Rz(2*γ[0]) ├┤ √X ├─■─┤ Rz(π + 2*β[0]) ├──────┤ √X ├──────┤ Rz(5π/2) ├────────────\n",
       "         ┌─────────┐┌────┐┌───────┐ │                                                │         │                                                              │         │         └─────────┘   └────┘   └───────┘└────────────┘└────┘ │ └─────┬────┬─────┘┌─────┴────┴─────┐└──┬────┬──┘┌──────────┐\n",
       "q_0 -> 3 ┤ Rz(π/2) ├┤ √X ├┤ Rz(π) ├─■────────────────────────────────────────────────■─────────■──────────────────────────────────────────────────────────────■─────────■──────────────────────────────────────────────────────────────■───────┤ √X ├──────┤ Rz(π + 2*β[0]) ├───┤ √X ├───┤ Rz(5π/2) ├\n",
       "         └─────────┘└────┘└───────┘                                                                                                                                                                                                            └────┘      └────────────────┘   └────┘   └──────────┘</pre>"
      ],
      "text/plain": [
       "global phase: π\n",
       "                                      ┌─────────┐┌────┐┌───────┐┌────────────┐┌────┐   ┌────────────────┐   ┌────┐  ┌──────────┐                                                                                                                                                                     \n",
       "q_1 -> 0 ───────────────────────────■─┤ Rz(π/2) ├┤ √X ├┤ Rz(π) ├┤ Rz(2*γ[0]) ├┤ √X ├─■─┤ Rz(π + 2*β[0]) ├───┤ √X ├──┤ Rz(5π/2) ├─────────────────────────────────────────────────────────────────────────────────────────────────────────────────────────────────────────────────────────────────────\n",
       "                                    │ └─────────┘└────┘└───────┘└────────────┘└────┘ │ └────────────────┘┌──┴────┴─┐└──┬────┬──┘┌───────┐┌────────────┐┌────┐   ┌────────────────┐   ┌────┐  ┌──────────┐                                                                                            \n",
       "q_2 -> 1 ───────────────────────────┼────────────────────────────────────────────────┼─────────■─────────┤ Rz(π/2) ├───┤ √X ├───┤ Rz(π) ├┤ Rz(2*γ[0]) ├┤ √X ├─■─┤ Rz(π + 2*β[0]) ├───┤ √X ├──┤ Rz(5π/2) ├────────────────────────────────────────────────────────────────────────────────────────────\n",
       "                                    │                                                │         │         └─────────┘   └────┘   └───────┘└────────────┘└────┘ │ └────────────────┘┌──┴────┴─┐└──┬────┬──┘┌───────┐┌────────────┐┌────┐   ┌────────────────┐      ┌────┐      ┌──────────┐            \n",
       "q_3 -> 2 ───────────────────────────┼────────────────────────────────────────────────┼─────────┼──────────────────────────────────────────────────────────────┼─────────■─────────┤ Rz(π/2) ├───┤ √X ├───┤ Rz(π) ├┤ Rz(2*γ[0]) ├┤ √X ├─■─┤ Rz(π + 2*β[0]) ├──────┤ √X ├──────┤ Rz(5π/2) ├────────────\n",
       "         ┌─────────┐┌────┐┌───────┐ │                                                │         │                                                              │         │         └─────────┘   └────┘   └───────┘└────────────┘└────┘ │ └─────┬────┬─────┘┌─────┴────┴─────┐└──┬────┬──┘┌──────────┐\n",
       "q_0 -> 3 ┤ Rz(π/2) ├┤ √X ├┤ Rz(π) ├─■────────────────────────────────────────────────■─────────■──────────────────────────────────────────────────────────────■─────────■──────────────────────────────────────────────────────────────■───────┤ √X ├──────┤ Rz(π + 2*β[0]) ├───┤ √X ├───┤ Rz(5π/2) ├\n",
       "         └─────────┘└────┘└───────┘                                                                                                                                                                                                            └────┘      └────────────────┘   └────┘   └──────────┘"
      ]
     },
     "execution_count": 158,
     "metadata": {},
     "output_type": "execute_result"
    }
   ],
   "source": [
    "naive_circuit.draw(fold=-1)"
   ]
  },
  {
   "cell_type": "markdown",
   "id": "6fbaf815",
   "metadata": {},
   "source": [
    "## Expectation Value:"
   ]
  },
  {
   "cell_type": "code",
   "execution_count": 159,
   "id": "4b053200",
   "metadata": {},
   "outputs": [
    {
     "data": {
      "text/plain": [
       "dict_values([array(0.52964542), array(0.)])"
      ]
     },
     "execution_count": 159,
     "metadata": {},
     "output_type": "execute_result"
    }
   ],
   "source": [
    "expectation_naive = estimator.run([(naive_circuit, hamiltonian, [optimal_gamma, optimal_beta])]).result()[0].data.values()\n",
    "expectation_naive"
   ]
  },
  {
   "cell_type": "markdown",
   "id": "44f9f509",
   "metadata": {},
   "source": [
    "# 2. QOPT Workflow"
   ]
  },
  {
   "cell_type": "code",
   "execution_count": 160,
   "id": "4a976b51",
   "metadata": {},
   "outputs": [],
   "source": [
    "# 1. choose swap strategy (in this case -> line)\n",
    "swap_strategy = SwapStrategy.from_line([i for i in range(cost_layer.num_qubits)])\n",
    "edge_coloring = {(idx, idx + 1): (idx + 1) % 2 for idx in range(cost_layer.num_qubits)}\n",
    "\n",
    "# 2. define pass manager for cost layer\n",
    "pre_init = PassManager(\n",
    "    [\n",
    "        PrepareCostLayer(),\n",
    "        Commuting2qGateRouter(swap_strategy, edge_coloring),\n",
    "        SwapToFinalMapping(),  # Removes unnecessary SWAP gates that the end of the block\n",
    "        # HighLevelSynthesis(basis_gates=[\"x\", \"cx\", \"sx\", \"rz\", \"id\"]),\n",
    "        # InverseCancellation(gates_to_cancel=[CXGate()]),\n",
    "    ]\n",
    ")\n",
    "\n",
    "# 3. define building PM\n",
    "init = PassManager([QAOAConstructionPass(num_layers=1)])"
   ]
  },
  {
   "cell_type": "code",
   "execution_count": 161,
   "id": "20fc25ad",
   "metadata": {},
   "outputs": [],
   "source": [
    "qopt_pm = generate_preset_pass_manager(3, backend, initial_layout=initial_layout)\n",
    "qopt_pm.pre_init = pre_init\n",
    "qopt_pm.init = init"
   ]
  },
  {
   "cell_type": "code",
   "execution_count": 162,
   "id": "2d03fe56",
   "metadata": {},
   "outputs": [
    {
     "name": "stdout",
     "output_type": "stream",
     "text": [
      "transpilation time: 0.002048015594482422 (s)\n",
      "OrderedDict([('rz', 32), ('sx', 28), ('cz', 11), ('measure', 4)])\n"
     ]
    }
   ],
   "source": [
    "t0_opt = time.time()\n",
    "qopt_circuit = qopt_pm.run(cost_layer)\n",
    "t1_opt = time.time()\n",
    "print(f\"transpilation time: {t1_opt - t0_opt} (s)\")\n",
    "print(qopt_circuit.count_ops())"
   ]
  },
  {
   "cell_type": "code",
   "execution_count": 163,
   "id": "12c40924",
   "metadata": {},
   "outputs": [
    {
     "data": {
      "text/html": [
       "<pre style=\"word-wrap: normal;white-space: pre;background: #fff0;line-height: 1.1;font-family: &quot;Courier New&quot;,Courier,monospace\">global phase: 3π/2\n",
       "         ┌─────────┐    ┌────┐   ┌────────────┐            ┌────┐                                                                    ┌────────┐  ┌────┐ ┌───────┐   ┌────┐  ┌─────────┐  ┌────────────────┐┌────┐┌──────────┐              ┌─┐                                                                                                                                                        \n",
       "q_0 -> 0 ┤ Rz(π/2) ├────┤ √X ├───┤ Rz(2.8061) ├───────■────┤ √X ├──────────────────────────────────────────────────────────────────■─┤ Rz(-π) ├──┤ √X ├─┤ Rz(π) ├─■─┤ √X ├──┤ Rz(π/2) ├──┤ Rz(π + 2*β[0]) ├┤ √X ├┤ Rz(5π/2) ├──────────────┤M├────────────────────────────────────────────────────────────────────────────────────────────────────────────────────────────────────────────────────────\n",
       "         ├─────────┤    ├────┤   └────────────┘┌────┐ │    └────┘  ┌────────┐   ┌────┐    ┌──────────┐          ┌────┐   ┌───────┐ │ └────────┘  └────┘ └───────┘ │ └────┘  └─────────┘  └────────────────┘└────┘└──────────┘              └╥┘                                             ┌────┐ ┌───────┐  ┌────────────┐┌────┐   ┌────────────────┐      ┌────┐      ┌──────────┐            ┌─┐   \n",
       "q_3 -> 1 ┤ Rz(π/2) ├────┤ √X ├─────────■───────┤ √X ├─┼──────■─────┤ Rz(-π) ├───┤ √X ├────┤ Rz(-π/2) ├───■──────┤ √X ├───┤ Rz(π) ├─┼──────────────────────────────┼─────────────────────────────────────────────────────────────────────────╫────────────────────────────────────■─────────┤ √X ├─┤ Rz(π) ├──┤ Rz(2*γ[0]) ├┤ √X ├─■─┤ Rz(π + 2*β[0]) ├──────┤ √X ├──────┤ Rz(5π/2) ├────────────┤M├───\n",
       "         └──┬────┬─┘┌───┴────┴──┐      │       ├────┤ │      │     └─┬────┬─┘   └────┘    └──────────┘   │    ┌─┴────┴┐  └───────┘ │                              │                                        ┌────┐ ┌────────┐ ┌────────────┐ ║    ┌────┐┌───────┐   ┌────┐        │         └────┘ └───────┘  └────────────┘└────┘ │ └─────┬────┬─────┘┌─────┴────┴─────┐└──┬────┬──┘┌──────────┐└╥┘┌─┐\n",
       "q_2 -> 2 ───┤ √X ├──┤ Rz(-3π/2) ├──────■───────┤ √X ├─┼──────■───────┤ √X ├──────────────────────────────■────┤ Rz(π) ├────────────┼──────────────────────────────┼──────────────────────────────■─────────┤ √X ├─┤ Rz(-π) ├─┤ Rz(2*γ[0]) ├─╫──■─┤ √X ├┤ Rz(π) ├─■─┤ √X ├────────■────────────────────────────────────────────────■───────┤ √X ├──────┤ Rz(π + 2*β[0]) ├───┤ √X ├───┤ Rz(5π/2) ├─╫─┤M├\n",
       "            └────┘  └───────────┘              └────┘ │ ┌─────────┐  ├────┤  ┌──────────┐┌────────────┐┌────┐┌┴───────┴─┐          │   ┌────┐  ┌───────┐          │ ┌────┐┌─────────────┐        │         ├────┤ ├────────┤ └────────────┘ ║  │ ├────┤├───────┤ │ ├────┤┌────────────────┐┌────┐┌──────────┐     ┌─┐                     └────┘      └────────────────┘   └────┘   └──────────┘ ║ └╥┘\n",
       "q_1 -> 3 ─────────────────────────────────────────────■─┤ Rz(π/2) ├──┤ √X ├──┤ Rz(-π/2) ├┤ Rz(2*γ[0]) ├┤ √X ├┤ Rz(-π/2) ├──────────■───┤ √X ├──┤ Rz(π) ├──────────■─┤ √X ├┤ Rz(0.33545) ├────────■─────────┤ √X ├─┤ Rz(-π) ├────────────────╫──■─┤ √X ├┤ Rz(π) ├─■─┤ √X ├┤ Rz(π + 2*β[0]) ├┤ √X ├┤ Rz(5π/2) ├─────┤M├────────────────────────────────────────────────────────────────────────────╫──╫─\n",
       "                                                        └─────────┘  └────┘  └──────────┘└────────────┘└────┘└──────────┘              └────┘  └───────┘            └────┘└─────────────┘                  └────┘ └────────┘                ║    └────┘└───────┘   └────┘└────────────────┘└────┘└──────────┘     └╥┘                                                                            ║  ║ \n",
       "    c: 4/═══════════════════════════════════════════════════════════════════════════════════════════════════════════════════════════════════════════════════════════════════════════════════════════════════════════════════════════════════╩══════════════════════════════════════════════════════════════════════╩═════════════════════════════════════════════════════════════════════════════╩══╩═\n",
       "                                                                                                                                                                                                                                            1                                                                      3                                                                             2  0 </pre>"
      ],
      "text/plain": [
       "global phase: 3π/2\n",
       "         ┌─────────┐    ┌────┐   ┌────────────┐            ┌────┐                                                                    ┌────────┐  ┌────┐ ┌───────┐   ┌────┐  ┌─────────┐  ┌────────────────┐┌────┐┌──────────┐              ┌─┐                                                                                                                                                        \n",
       "q_0 -> 0 ┤ Rz(π/2) ├────┤ √X ├───┤ Rz(2.8061) ├───────■────┤ √X ├──────────────────────────────────────────────────────────────────■─┤ Rz(-π) ├──┤ √X ├─┤ Rz(π) ├─■─┤ √X ├──┤ Rz(π/2) ├──┤ Rz(π + 2*β[0]) ├┤ √X ├┤ Rz(5π/2) ├──────────────┤M├────────────────────────────────────────────────────────────────────────────────────────────────────────────────────────────────────────────────────────\n",
       "         ├─────────┤    ├────┤   └────────────┘┌────┐ │    └────┘  ┌────────┐   ┌────┐    ┌──────────┐          ┌────┐   ┌───────┐ │ └────────┘  └────┘ └───────┘ │ └────┘  └─────────┘  └────────────────┘└────┘└──────────┘              └╥┘                                             ┌────┐ ┌───────┐  ┌────────────┐┌────┐   ┌────────────────┐      ┌────┐      ┌──────────┐            ┌─┐   \n",
       "q_3 -> 1 ┤ Rz(π/2) ├────┤ √X ├─────────■───────┤ √X ├─┼──────■─────┤ Rz(-π) ├───┤ √X ├────┤ Rz(-π/2) ├───■──────┤ √X ├───┤ Rz(π) ├─┼──────────────────────────────┼─────────────────────────────────────────────────────────────────────────╫────────────────────────────────────■─────────┤ √X ├─┤ Rz(π) ├──┤ Rz(2*γ[0]) ├┤ √X ├─■─┤ Rz(π + 2*β[0]) ├──────┤ √X ├──────┤ Rz(5π/2) ├────────────┤M├───\n",
       "         └──┬────┬─┘┌───┴────┴──┐      │       ├────┤ │      │     └─┬────┬─┘   └────┘    └──────────┘   │    ┌─┴────┴┐  └───────┘ │                              │                                        ┌────┐ ┌────────┐ ┌────────────┐ ║    ┌────┐┌───────┐   ┌────┐        │         └────┘ └───────┘  └────────────┘└────┘ │ └─────┬────┬─────┘┌─────┴────┴─────┐└──┬────┬──┘┌──────────┐└╥┘┌─┐\n",
       "q_2 -> 2 ───┤ √X ├──┤ Rz(-3π/2) ├──────■───────┤ √X ├─┼──────■───────┤ √X ├──────────────────────────────■────┤ Rz(π) ├────────────┼──────────────────────────────┼──────────────────────────────■─────────┤ √X ├─┤ Rz(-π) ├─┤ Rz(2*γ[0]) ├─╫──■─┤ √X ├┤ Rz(π) ├─■─┤ √X ├────────■────────────────────────────────────────────────■───────┤ √X ├──────┤ Rz(π + 2*β[0]) ├───┤ √X ├───┤ Rz(5π/2) ├─╫─┤M├\n",
       "            └────┘  └───────────┘              └────┘ │ ┌─────────┐  ├────┤  ┌──────────┐┌────────────┐┌────┐┌┴───────┴─┐          │   ┌────┐  ┌───────┐          │ ┌────┐┌─────────────┐        │         ├────┤ ├────────┤ └────────────┘ ║  │ ├────┤├───────┤ │ ├────┤┌────────────────┐┌────┐┌──────────┐     ┌─┐                     └────┘      └────────────────┘   └────┘   └──────────┘ ║ └╥┘\n",
       "q_1 -> 3 ─────────────────────────────────────────────■─┤ Rz(π/2) ├──┤ √X ├──┤ Rz(-π/2) ├┤ Rz(2*γ[0]) ├┤ √X ├┤ Rz(-π/2) ├──────────■───┤ √X ├──┤ Rz(π) ├──────────■─┤ √X ├┤ Rz(0.33545) ├────────■─────────┤ √X ├─┤ Rz(-π) ├────────────────╫──■─┤ √X ├┤ Rz(π) ├─■─┤ √X ├┤ Rz(π + 2*β[0]) ├┤ √X ├┤ Rz(5π/2) ├─────┤M├────────────────────────────────────────────────────────────────────────────╫──╫─\n",
       "                                                        └─────────┘  └────┘  └──────────┘└────────────┘└────┘└──────────┘              └────┘  └───────┘            └────┘└─────────────┘                  └────┘ └────────┘                ║    └────┘└───────┘   └────┘└────────────────┘└────┘└──────────┘     └╥┘                                                                            ║  ║ \n",
       "    c: 4/═══════════════════════════════════════════════════════════════════════════════════════════════════════════════════════════════════════════════════════════════════════════════════════════════════════════════════════════════════╩══════════════════════════════════════════════════════════════════════╩═════════════════════════════════════════════════════════════════════════════╩══╩═\n",
       "                                                                                                                                                                                                                                            1                                                                      3                                                                             2  0 "
      ]
     },
     "execution_count": 163,
     "metadata": {},
     "output_type": "execute_result"
    }
   ],
   "source": [
    "qopt_circuit.draw(fold=-1)"
   ]
  },
  {
   "cell_type": "markdown",
   "id": "1d65eb76",
   "metadata": {},
   "source": [
    "## Expectation Value:"
   ]
  },
  {
   "cell_type": "code",
   "execution_count": 164,
   "id": "cec1199c",
   "metadata": {},
   "outputs": [
    {
     "name": "stderr",
     "output_type": "stream",
     "text": [
      "/Users/ept/qiskit_workspace/qopt-best-practices/.venv/lib/python3.11/site-packages/qiskit/circuit/quantumcircuit.py:4625: UserWarning: Trying to add QuantumRegister to a QuantumCircuit having a layout\n",
      "  circ.add_register(qreg)\n"
     ]
    },
    {
     "data": {
      "text/plain": [
       "dict_values([array(0.52964542), array(0.)])"
      ]
     },
     "execution_count": 164,
     "metadata": {},
     "output_type": "execute_result"
    }
   ],
   "source": [
    "qopt_circuit.remove_final_measurements()\n",
    "expectation_qopt = estimator.run([(qopt_circuit, hamiltonian, [optimal_gamma, optimal_beta])]).result()[0].data.values()\n",
    "expectation_qopt"
   ]
  },
  {
   "cell_type": "markdown",
   "id": "bde17982",
   "metadata": {},
   "source": [
    "# 3. Annotated Workflow"
   ]
  },
  {
   "cell_type": "code",
   "execution_count": 165,
   "id": "a8549f40",
   "metadata": {},
   "outputs": [
    {
     "name": "stdout",
     "output_type": "stream",
     "text": [
      "AM I PRINTING\n",
      "USE BOX\n",
      "AM I PRINTING\n",
      "USE BOX\n"
     ]
    },
    {
     "data": {
      "image/png": "[encoded data removed]",
      "text/plain": [
       "<Figure size 789.163x367.889 with 1 Axes>"
      ]
     },
     "execution_count": 165,
     "metadata": {},
     "output_type": "execute_result"
    }
   ],
   "source": [
    "annotated_ansatz = annotated_qaoa_ansatz(hamiltonian, reps = 1)\n",
    "annotated_ansatz.draw('mpl', fold=-1)"
   ]
  },
  {
   "cell_type": "code",
   "execution_count": 168,
   "id": "16ad8cc2",
   "metadata": {},
   "outputs": [],
   "source": [
    "# 1. choose swap strategy (in this case -> line)\n",
    "swap_strategy = SwapStrategy.from_line([i for i in range(cost_layer.num_qubits)])\n",
    "edge_coloring = {(idx, idx + 1): (idx + 1) % 2 for idx in range(cost_layer.num_qubits)}\n",
    "\n",
    "# 2. define pass manager for cost layer\n",
    "pre_init = PassManager(\n",
    "    [\n",
    "        AnnotatedPrepareCostLayer(),\n",
    "        AnnotatedCommuting2qGateRouter(swap_strategy, edge_coloring),\n",
    "        SwapToFinalMapping(),  # Removes unnecessary SWAP gates that the end of the block\n",
    "        # HighLevelSynthesis(basis_gates=[\"x\", \"cx\", \"sx\", \"rz\", \"id\"]),\n",
    "        # InverseCancellation(gates_to_cancel=[CXGate()]),\n",
    "    ]\n",
    ")\n",
    "init = PassManager([])"
   ]
  },
  {
   "cell_type": "code",
   "execution_count": 169,
   "id": "ee5aca24",
   "metadata": {},
   "outputs": [],
   "source": [
    "annotated_pm = generate_preset_pass_manager(3, backend, initial_layout=initial_layout)\n",
    "annotated_pm.pre_init = pre_init\n",
    "annotated_pm.init = init"
   ]
  },
  {
   "cell_type": "code",
   "execution_count": 170,
   "id": "55eb0379",
   "metadata": {},
   "outputs": [
    {
     "name": "stdout",
     "output_type": "stream",
     "text": [
      "GATE LAYERS defaultdict(<class 'dict'>, {np.int64(0): {(0, 1): Instruction(name='rzz', num_qubits=2, num_clbits=0, params=[<qiskit._accelerate.circuit.ParameterExpression object at 0x137621d70>])}, np.int64(2): {(0, 2): Instruction(name='rzz', num_qubits=2, num_clbits=0, params=[<qiskit._accelerate.circuit.ParameterExpression object at 0x13757b690>])}, np.int64(1): {(0, 3): Instruction(name='rzz', num_qubits=2, num_clbits=0, params=[<qiskit._accelerate.circuit.ParameterExpression object at 0x13786fe70>])}})\n",
      "transpilation time: 0.0025453567504882812 (s)\n",
      "OrderedDict([('rz', 32), ('sx', 28), ('cz', 11)])\n"
     ]
    }
   ],
   "source": [
    "t0_opt = time.time()\n",
    "annotated_circuit = annotated_pm.run(annotated_ansatz)\n",
    "t1_opt = time.time()\n",
    "print(f\"transpilation time: {t1_opt - t0_opt} (s)\")\n",
    "print(annotated_circuit.count_ops())"
   ]
  },
  {
   "cell_type": "code",
   "execution_count": 171,
   "id": "ce0382c6",
   "metadata": {},
   "outputs": [
    {
     "data": {
      "text/html": [
       "<pre style=\"word-wrap: normal;white-space: pre;background: #fff0;line-height: 1.1;font-family: &quot;Courier New&quot;,Courier,monospace\">global phase: 3π/2\n",
       "         ┌─────────┐    ┌────┐   ┌────────────┐            ┌────┐                                                                    ┌────────┐  ┌────┐ ┌───────┐   ┌────┐  ┌─────────┐  ┌────────────────┐┌────┐┌──────────┐                                                                                                                                                                \n",
       "q_0 -> 0 ┤ Rz(π/2) ├────┤ √X ├───┤ Rz(2.8061) ├───────■────┤ √X ├──────────────────────────────────────────────────────────────────■─┤ Rz(-π) ├──┤ √X ├─┤ Rz(π) ├─■─┤ √X ├──┤ Rz(π/2) ├──┤ Rz(π + 2*β[0]) ├┤ √X ├┤ Rz(5π/2) ├────────────────────────────────────────────────────────────────────────────────────────────────────────────────────────────────────────────────────────────────\n",
       "         ├─────────┤    ├────┤   └────────────┘┌────┐ │    └────┘  ┌────────┐   ┌────┐    ┌──────────┐          ┌────┐   ┌───────┐ │ └────────┘  └────┘ └───────┘ │ └────┘  └─────────┘  └────────────────┘└────┘└──────────┘                                                           ┌────┐ ┌───────┐  ┌────────────┐┌────┐   ┌────────────────┐      ┌────┐      ┌──────────┐            \n",
       "q_3 -> 1 ┤ Rz(π/2) ├────┤ √X ├─────────■───────┤ √X ├─┼──────■─────┤ Rz(-π) ├───┤ √X ├────┤ Rz(-π/2) ├───■──────┤ √X ├───┤ Rz(π) ├─┼──────────────────────────────┼───────────────────────────────────────────────────────────────────────────────────────────────────────────■─────────┤ √X ├─┤ Rz(π) ├──┤ Rz(2*γ[0]) ├┤ √X ├─■─┤ Rz(π + 2*β[0]) ├──────┤ √X ├──────┤ Rz(5π/2) ├────────────\n",
       "         └──┬────┬─┘┌───┴────┴──┐      │       ├────┤ │      │     └─┬────┬─┘   └────┘    └──────────┘   │    ┌─┴────┴┐  └───────┘ │                              │                                        ┌────┐ ┌────────┐ ┌────────────┐   ┌────┐┌───────┐   ┌────┐        │         └────┘ └───────┘  └────────────┘└────┘ │ └─────┬────┬─────┘┌─────┴────┴─────┐└──┬────┬──┘┌──────────┐\n",
       "q_2 -> 2 ───┤ √X ├──┤ Rz(-3π/2) ├──────■───────┤ √X ├─┼──────■───────┤ √X ├──────────────────────────────■────┤ Rz(π) ├────────────┼──────────────────────────────┼──────────────────────────────■─────────┤ √X ├─┤ Rz(-π) ├─┤ Rz(2*γ[0]) ├─■─┤ √X ├┤ Rz(π) ├─■─┤ √X ├────────■────────────────────────────────────────────────■───────┤ √X ├──────┤ Rz(π + 2*β[0]) ├───┤ √X ├───┤ Rz(5π/2) ├\n",
       "            └────┘  └───────────┘              └────┘ │ ┌─────────┐  ├────┤  ┌──────────┐┌────────────┐┌────┐┌┴───────┴─┐          │   ┌────┐  ┌───────┐          │ ┌────┐┌─────────────┐        │         ├────┤ ├────────┤ └────────────┘ │ ├────┤├───────┤ │ ├────┤┌────────────────┐┌────┐┌──────────┐                             └────┘      └────────────────┘   └────┘   └──────────┘\n",
       "q_1 -> 3 ─────────────────────────────────────────────■─┤ Rz(π/2) ├──┤ √X ├──┤ Rz(-π/2) ├┤ Rz(2*γ[0]) ├┤ √X ├┤ Rz(-π/2) ├──────────■───┤ √X ├──┤ Rz(π) ├──────────■─┤ √X ├┤ Rz(0.33545) ├────────■─────────┤ √X ├─┤ Rz(-π) ├────────────────■─┤ √X ├┤ Rz(π) ├─■─┤ √X ├┤ Rz(π + 2*β[0]) ├┤ √X ├┤ Rz(5π/2) ├───────────────────────────────────────────────────────────────────────────────────\n",
       "                                                        └─────────┘  └────┘  └──────────┘└────────────┘└────┘└──────────┘              └────┘  └───────┘            └────┘└─────────────┘                  └────┘ └────────┘                  └────┘└───────┘   └────┘└────────────────┘└────┘└──────────┘                                                                                   </pre>"
      ],
      "text/plain": [
       "global phase: 3π/2\n",
       "         ┌─────────┐    ┌────┐   ┌────────────┐            ┌────┐                                                                    ┌────────┐  ┌────┐ ┌───────┐   ┌────┐  ┌─────────┐  ┌────────────────┐┌────┐┌──────────┐                                                                                                                                                                \n",
       "q_0 -> 0 ┤ Rz(π/2) ├────┤ √X ├───┤ Rz(2.8061) ├───────■────┤ √X ├──────────────────────────────────────────────────────────────────■─┤ Rz(-π) ├──┤ √X ├─┤ Rz(π) ├─■─┤ √X ├──┤ Rz(π/2) ├──┤ Rz(π + 2*β[0]) ├┤ √X ├┤ Rz(5π/2) ├────────────────────────────────────────────────────────────────────────────────────────────────────────────────────────────────────────────────────────────────\n",
       "         ├─────────┤    ├────┤   └────────────┘┌────┐ │    └────┘  ┌────────┐   ┌────┐    ┌──────────┐          ┌────┐   ┌───────┐ │ └────────┘  └────┘ └───────┘ │ └────┘  └─────────┘  └────────────────┘└────┘└──────────┘                                                           ┌────┐ ┌───────┐  ┌────────────┐┌────┐   ┌────────────────┐      ┌────┐      ┌──────────┐            \n",
       "q_3 -> 1 ┤ Rz(π/2) ├────┤ √X ├─────────■───────┤ √X ├─┼──────■─────┤ Rz(-π) ├───┤ √X ├────┤ Rz(-π/2) ├───■──────┤ √X ├───┤ Rz(π) ├─┼──────────────────────────────┼───────────────────────────────────────────────────────────────────────────────────────────────────────────■─────────┤ √X ├─┤ Rz(π) ├──┤ Rz(2*γ[0]) ├┤ √X ├─■─┤ Rz(π + 2*β[0]) ├──────┤ √X ├──────┤ Rz(5π/2) ├────────────\n",
       "         └──┬────┬─┘┌───┴────┴──┐      │       ├────┤ │      │     └─┬────┬─┘   └────┘    └──────────┘   │    ┌─┴────┴┐  └───────┘ │                              │                                        ┌────┐ ┌────────┐ ┌────────────┐   ┌────┐┌───────┐   ┌────┐        │         └────┘ └───────┘  └────────────┘└────┘ │ └─────┬────┬─────┘┌─────┴────┴─────┐└──┬────┬──┘┌──────────┐\n",
       "q_2 -> 2 ───┤ √X ├──┤ Rz(-3π/2) ├──────■───────┤ √X ├─┼──────■───────┤ √X ├──────────────────────────────■────┤ Rz(π) ├────────────┼──────────────────────────────┼──────────────────────────────■─────────┤ √X ├─┤ Rz(-π) ├─┤ Rz(2*γ[0]) ├─■─┤ √X ├┤ Rz(π) ├─■─┤ √X ├────────■────────────────────────────────────────────────■───────┤ √X ├──────┤ Rz(π + 2*β[0]) ├───┤ √X ├───┤ Rz(5π/2) ├\n",
       "            └────┘  └───────────┘              └────┘ │ ┌─────────┐  ├────┤  ┌──────────┐┌────────────┐┌────┐┌┴───────┴─┐          │   ┌────┐  ┌───────┐          │ ┌────┐┌─────────────┐        │         ├────┤ ├────────┤ └────────────┘ │ ├────┤├───────┤ │ ├────┤┌────────────────┐┌────┐┌──────────┐                             └────┘      └────────────────┘   └────┘   └──────────┘\n",
       "q_1 -> 3 ─────────────────────────────────────────────■─┤ Rz(π/2) ├──┤ √X ├──┤ Rz(-π/2) ├┤ Rz(2*γ[0]) ├┤ √X ├┤ Rz(-π/2) ├──────────■───┤ √X ├──┤ Rz(π) ├──────────■─┤ √X ├┤ Rz(0.33545) ├────────■─────────┤ √X ├─┤ Rz(-π) ├────────────────■─┤ √X ├┤ Rz(π) ├─■─┤ √X ├┤ Rz(π + 2*β[0]) ├┤ √X ├┤ Rz(5π/2) ├───────────────────────────────────────────────────────────────────────────────────\n",
       "                                                        └─────────┘  └────┘  └──────────┘└────────────┘└────┘└──────────┘              └────┘  └───────┘            └────┘└─────────────┘                  └────┘ └────────┘                  └────┘└───────┘   └────┘└────────────────┘└────┘└──────────┘                                                                                   "
      ]
     },
     "execution_count": 171,
     "metadata": {},
     "output_type": "execute_result"
    }
   ],
   "source": [
    "annotated_circuit.draw(fold=-1)"
   ]
  },
  {
   "cell_type": "markdown",
   "id": "deb3de25",
   "metadata": {},
   "source": [
    "## Expectation Value:"
   ]
  },
  {
   "cell_type": "code",
   "execution_count": 172,
   "id": "67ec4a25",
   "metadata": {},
   "outputs": [
    {
     "data": {
      "text/plain": [
       "dict_values([array(0.52964542), array(0.)])"
      ]
     },
     "execution_count": 172,
     "metadata": {},
     "output_type": "execute_result"
    }
   ],
   "source": [
    "expectation_annotated = estimator.run([(annotated_circuit, hamiltonian, [optimal_gamma, optimal_beta])]).result()[0].data.values()\n",
    "expectation_annotated"
   ]
  },
  {
   "cell_type": "markdown",
   "id": "ef3c83b4",
   "metadata": {},
   "source": [
    "# EXPECTATION VALUE COMPARISON"
   ]
  },
  {
   "cell_type": "code",
   "execution_count": 173,
   "id": "fd56022e",
   "metadata": {},
   "outputs": [
    {
     "data": {
      "text/plain": [
       "dict_values([array(0.52964542), array(0.)])"
      ]
     },
     "execution_count": 173,
     "metadata": {},
     "output_type": "execute_result"
    }
   ],
   "source": [
    "expectation_naive"
   ]
  },
  {
   "cell_type": "code",
   "execution_count": 175,
   "id": "b6afff60",
   "metadata": {},
   "outputs": [
    {
     "data": {
      "text/plain": [
       "dict_values([array(0.52964542), array(0.)])"
      ]
     },
     "execution_count": 175,
     "metadata": {},
     "output_type": "execute_result"
    }
   ],
   "source": [
    "expectation_qopt"
   ]
  },
  {
   "cell_type": "code",
   "execution_count": 174,
   "id": "33057ceb",
   "metadata": {},
   "outputs": [
    {
     "data": {
      "text/plain": [
       "dict_values([array(0.52964542), array(0.)])"
      ]
     },
     "execution_count": 174,
     "metadata": {},
     "output_type": "execute_result"
    }
   ],
   "source": [
    "expectation_annotated"
   ]
  }
 ],
 "metadata": {
  "kernelspec": {
   "display_name": ".venv",
   "language": "python",
   "name": "python3"
  },
  "language_info": {
   "codemirror_mode": {
    "name": "ipython",
    "version": 3
   },
   "file_extension": ".py",
   "mimetype": "text/x-python",
   "name": "python",
   "nbconvert_exporter": "python",
   "pygments_lexer": "ipython3",
   "version": "3.11.9"
  }
 },
 "nbformat": 4,
 "nbformat_minor": 5
}
